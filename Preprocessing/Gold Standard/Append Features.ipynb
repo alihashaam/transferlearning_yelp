{
 "cells": [
  {
   "cell_type": "code",
   "execution_count": 1,
   "metadata": {},
   "outputs": [],
   "source": [
    "import pandas as pd\n",
    "from sklearn.feature_extraction.text import CountVectorizer\n",
    "from scipy.sparse import hstack\n",
    "import numpy as np\n",
    "from scipy import sparse\n",
    "from sklearn.externals import joblib"
   ]
  },
  {
   "cell_type": "code",
   "execution_count": 2,
   "metadata": {},
   "outputs": [],
   "source": [
    "def extrafeatures(rows, columns, increment_at_step):\n",
    "    \"\"\"create sparse matrix of the given size with zero as all elements\"\"\"\n",
    "    extra_Features = sparse.csr_matrix(np.zeros([rows,0])) # sparse.csr_matrix(np.zeros([170623,0]))\n",
    "    iter_columns = 0\n",
    "    while extra_Features.shape[1] < columns:\n",
    "        if (extra_Features.shape[1] + increment_at_step) > columns:\n",
    "            iter_columns = columns - extra_Features.shape[1]\n",
    "        else:\n",
    "            iter_columns = increment_at_step\n",
    "        extra_Features = hstack((extra_Features,sparse.csr_matrix(np.zeros([rows,iter_columns])))) #[170623,5138]\n",
    "        print \"Columns appended: \"+ str(extra_Features.shape[1])\n",
    "    return extra_Features"
   ]
  },
  {
   "cell_type": "markdown",
   "metadata": {},
   "source": [
    "# Restaurents vs Bars"
   ]
  },
  {
   "cell_type": "markdown",
   "metadata": {},
   "source": [
    "From Features_Stats.pynb we got the information that we need to append 86565 features to Restaurents sparse document term matrix and appned 545848 features to bars "
   ]
  },
  {
   "cell_type": "code",
   "execution_count": 7,
   "metadata": {},
   "outputs": [],
   "source": [
    "restaurent_features_against_bars = extrafeatures(2827730, 86565, 300)"
   ]
  },
  {
   "cell_type": "code",
   "execution_count": 3,
   "metadata": {},
   "outputs": [],
   "source": [
    "X_train_counts_restaurents = joblib.load('count_vectorizers/golden_Restaurents_x.pkl')"
   ]
  },
  {
   "cell_type": "code",
   "execution_count": 7,
   "metadata": {},
   "outputs": [
    {
     "data": {
      "text/plain": [
       "['count_vectorizers/restaurents_vs_bars/baseline_RESTAURENTS_x.pkl']"
      ]
     },
     "execution_count": 7,
     "metadata": {},
     "output_type": "execute_result"
    }
   ],
   "source": [
    "restaurent_features_against_bars = hstack((X_train_counts_restaurents, restaurent_features_against_bars))\n",
    "joblib.dump(restaurent_features_against_bars, 'count_vectorizers/restaurents_vs_bars/baseline_RESTAURENTS_x.pkl')"
   ]
  },
  {
   "cell_type": "code",
   "execution_count": 8,
   "metadata": {},
   "outputs": [],
   "source": [
    "bars_features_against_restaurents = extrafeatures(942711, 545848, 500)"
   ]
  },
  {
   "cell_type": "code",
   "execution_count": 4,
   "metadata": {},
   "outputs": [],
   "source": [
    "X_train_counts_bars = joblib.load('count_vectorizers/golden_Bars_x.pkl')"
   ]
  },
  {
   "cell_type": "code",
   "execution_count": 12,
   "metadata": {},
   "outputs": [
    {
     "data": {
      "text/plain": [
       "['count_vectorizers/restaurents_vs_bars/baseline_BARS_x.pkl']"
      ]
     },
     "execution_count": 12,
     "metadata": {},
     "output_type": "execute_result"
    }
   ],
   "source": [
    "bars_features_against_restaurents = hstack((X_train_counts_bars, bars_features_against_restaurents))\n",
    "joblib.dump(bars_features_against_restaurents, 'count_vectorizers/restaurents_vs_bars/baseline_BARS_x.pkl')"
   ]
  },
  {
   "cell_type": "markdown",
   "metadata": {},
   "source": [
    "# Restautrents vs Home Services"
   ]
  },
  {
   "cell_type": "markdown",
   "metadata": {},
   "source": [
    "From Features_Stats.pynb we got the information that we need to append 57910 features to Restaurents sparse document term matrix and appned 887295 features to Home Services "
   ]
  },
  {
   "cell_type": "code",
   "execution_count": 9,
   "metadata": {},
   "outputs": [],
   "source": [
    "restaurent_features_against_hs = extrafeatures(2827730, 57910, 300)"
   ]
  },
  {
   "cell_type": "code",
   "execution_count": 11,
   "metadata": {},
   "outputs": [
    {
     "data": {
      "text/plain": [
       "['count_vectorizers/restaurents_vs_homeservices/baseline_RESTAURENTS_x.pkl']"
      ]
     },
     "execution_count": 11,
     "metadata": {},
     "output_type": "execute_result"
    }
   ],
   "source": [
    "restaurent_features_against_hs = hstack((X_train_counts_restaurents, restaurent_features_against_hs))\n",
    "joblib.dump(restaurent_features_against_hs, 'count_vectorizers/restaurents_vs_homeservices/baseline_RESTAURENTS_x.pkl')"
   ]
  },
  {
   "cell_type": "code",
   "execution_count": 10,
   "metadata": {},
   "outputs": [],
   "source": [
    "hs_features_against_restaurents = extrafeatures(170623, 887295, 1000)"
   ]
  },
  {
   "cell_type": "code",
   "execution_count": 5,
   "metadata": {},
   "outputs": [],
   "source": [
    "X_train_counts_home_services = joblib.load('count_vectorizers/golden_Home Services_x.pkl')"
   ]
  },
  {
   "cell_type": "code",
   "execution_count": 5,
   "metadata": {},
   "outputs": [
    {
     "data": {
      "text/plain": [
       "['count_vectorizers/restaurents_vs_homeservices/baseline_HOMESERVICES_x.pkl']"
      ]
     },
     "execution_count": 5,
     "metadata": {},
     "output_type": "execute_result"
    }
   ],
   "source": [
    "hs_features_against_restaurents = hstack((X_train_counts_home_services, hs_features_against_restaurents))\n",
    "joblib.dump(hs_features_against_restaurents, 'count_vectorizers/restaurents_vs_homeservices/baseline_HOMESERVICES_x.pkl')"
   ]
  },
  {
   "cell_type": "markdown",
   "metadata": {},
   "source": [
    "# Verify Results"
   ]
  },
  {
   "cell_type": "code",
   "execution_count": 8,
   "metadata": {},
   "outputs": [],
   "source": [
    "restaurents_bars_baseline = joblib.load('count_vectorizers/restaurents_vs_bars/baseline_RESTAURENTS_x.pkl')"
   ]
  },
  {
   "cell_type": "code",
   "execution_count": 9,
   "metadata": {},
   "outputs": [
    {
     "data": {
      "text/plain": [
       "(<2827730x1040512 sparse matrix of type '<type 'numpy.float64'>'\n",
       " \twith 140725155 stored elements in COOrdinate format>,\n",
       " <2827730x953947 sparse matrix of type '<type 'numpy.int64'>'\n",
       " \twith 140725155 stored elements in Compressed Sparse Row format>)"
      ]
     },
     "execution_count": 9,
     "metadata": {},
     "output_type": "execute_result"
    }
   ],
   "source": [
    "restaurents_bars_baseline, X_train_counts_restaurents"
   ]
  },
  {
   "cell_type": "markdown",
   "metadata": {},
   "source": [
    "As we can see that now the extra features has been appended but number of stored elements remain the same and that is what was required."
   ]
  },
  {
   "cell_type": "code",
   "execution_count": 10,
   "metadata": {},
   "outputs": [],
   "source": [
    "bars_restaurents_baseline = joblib.load('count_vectorizers/restaurents_vs_bars/baseline_BARS_x.pkl')"
   ]
  },
  {
   "cell_type": "code",
   "execution_count": 12,
   "metadata": {},
   "outputs": [
    {
     "data": {
      "text/plain": [
       "(<942711x1040512 sparse matrix of type '<type 'numpy.float64'>'\n",
       " \twith 45912642 stored elements in COOrdinate format>,\n",
       " <942711x494664 sparse matrix of type '<type 'numpy.int64'>'\n",
       " \twith 45912642 stored elements in Compressed Sparse Row format>)"
      ]
     },
     "execution_count": 12,
     "metadata": {},
     "output_type": "execute_result"
    }
   ],
   "source": [
    "bars_restaurents_baseline, X_train_counts_bars"
   ]
  },
  {
   "cell_type": "code",
   "execution_count": 13,
   "metadata": {},
   "outputs": [],
   "source": [
    "restaurents_hs_baseline = joblib.load('count_vectorizers/restaurents_vs_homeservices/baseline_RESTAURENTS_x.pkl')"
   ]
  },
  {
   "cell_type": "code",
   "execution_count": 14,
   "metadata": {},
   "outputs": [
    {
     "data": {
      "text/plain": [
       "(<2827730x1011857 sparse matrix of type '<type 'numpy.float64'>'\n",
       " \twith 140725155 stored elements in COOrdinate format>,\n",
       " <2827730x953947 sparse matrix of type '<type 'numpy.int64'>'\n",
       " \twith 140725155 stored elements in Compressed Sparse Row format>)"
      ]
     },
     "execution_count": 14,
     "metadata": {},
     "output_type": "execute_result"
    }
   ],
   "source": [
    "restaurents_hs_baseline, X_train_counts_restaurents"
   ]
  },
  {
   "cell_type": "code",
   "execution_count": 15,
   "metadata": {},
   "outputs": [],
   "source": [
    "hs_restaurents_baseline = joblib.load('count_vectorizers/restaurents_vs_homeservices/baseline_HOMESERVICES_x.pkl')"
   ]
  },
  {
   "cell_type": "code",
   "execution_count": 16,
   "metadata": {},
   "outputs": [
    {
     "data": {
      "text/plain": [
       "(<170623x1011857 sparse matrix of type '<type 'numpy.float64'>'\n",
       " \twith 8150573 stored elements in COOrdinate format>,\n",
       " <170623x124562 sparse matrix of type '<type 'numpy.int64'>'\n",
       " \twith 8150573 stored elements in Compressed Sparse Row format>)"
      ]
     },
     "execution_count": 16,
     "metadata": {},
     "output_type": "execute_result"
    }
   ],
   "source": [
    "hs_restaurents_baseline, X_train_counts_home_services"
   ]
  },
  {
   "cell_type": "code",
   "execution_count": null,
   "metadata": {},
   "outputs": [],
   "source": []
  }
 ],
 "metadata": {
  "kernelspec": {
   "display_name": "Python 2",
   "language": "python",
   "name": "python2"
  },
  "language_info": {
   "codemirror_mode": {
    "name": "ipython",
    "version": 2
   },
   "file_extension": ".py",
   "mimetype": "text/x-python",
   "name": "python",
   "nbconvert_exporter": "python",
   "pygments_lexer": "ipython2",
   "version": "2.7.11"
  }
 },
 "nbformat": 4,
 "nbformat_minor": 2
}
