{
 "cells": [
  {
   "cell_type": "code",
   "execution_count": 1,
   "metadata": {},
   "outputs": [],
   "source": [
    "import pandas as pd\n",
    "from sklearn.feature_extraction.text import CountVectorizer\n",
    "from scipy.sparse import hstack\n",
    "import numpy as np\n",
    "from scipy import sparse"
   ]
  },
  {
   "cell_type": "code",
   "execution_count": 2,
   "metadata": {},
   "outputs": [
    {
     "name": "stdout",
     "output_type": "stream",
     "text": [
      "Matrix Shape: (170623, 124562)\n"
     ]
    }
   ],
   "source": [
    "df = pd.read_csv('Processed Datasets with Feature Engineering/Featured_Preprocessed_Home Services_Reviews.csv')\n",
    "count_vect = CountVectorizer(lowercase=False)\n",
    "X_train_counts = count_vect.fit_transform(df['text'])\n",
    "print 'Matrix Shape: '+ str(X_train_counts.shape)"
   ]
  },
  {
   "cell_type": "code",
   "execution_count": 3,
   "metadata": {},
   "outputs": [
    {
     "data": {
      "text/plain": [
       "<170623x124562 sparse matrix of type '<type 'numpy.int64'>'\n",
       "\twith 8150573 stored elements in Compressed Sparse Row format>"
      ]
     },
     "execution_count": 3,
     "metadata": {},
     "output_type": "execute_result"
    }
   ],
   "source": [
    "X_train_counts"
   ]
  },
  {
   "cell_type": "code",
   "execution_count": 4,
   "metadata": {},
   "outputs": [
    {
     "name": "stdout",
     "output_type": "stream",
     "text": [
      "Matrix Shape: (2827730, 953947)\n"
     ]
    }
   ],
   "source": [
    "df_restaurents = pd.read_csv('Processed Datasets with Feature Engineering/Featured_Preprocessed_Restaurents_Reviews.csv')\n",
    "count_vect_restaurents = CountVectorizer(lowercase=False)\n",
    "X_train_counts_restaurents = count_vect_restaurents.fit_transform(df_restaurents['text'])\n",
    "print 'Matrix Shape: '+ str(X_train_counts_restaurents.shape)"
   ]
  },
  {
   "cell_type": "code",
   "execution_count": 5,
   "metadata": {},
   "outputs": [
    {
     "data": {
      "text/plain": [
       "<2827730x953947 sparse matrix of type '<type 'numpy.int64'>'\n",
       "\twith 140725155 stored elements in Compressed Sparse Row format>"
      ]
     },
     "execution_count": 5,
     "metadata": {},
     "output_type": "execute_result"
    }
   ],
   "source": [
    "X_train_counts_restaurents"
   ]
  },
  {
   "cell_type": "code",
   "execution_count": 6,
   "metadata": {},
   "outputs": [
    {
     "name": "stdout",
     "output_type": "stream",
     "text": [
      "Matrix Shape: (942711, 494664)\n"
     ]
    }
   ],
   "source": [
    "df_bars = pd.read_csv('Processed Datasets with Feature Engineering/Featured_Preprocessed_Bars_Reviews.csv')\n",
    "count_vect_bars = CountVectorizer(lowercase=False)\n",
    "X_train_counts_bars = count_vect_bars.fit_transform(df_bars['text'])\n",
    "print 'Matrix Shape: '+ str(X_train_counts_bars.shape)"
   ]
  },
  {
   "cell_type": "code",
   "execution_count": 7,
   "metadata": {},
   "outputs": [
    {
     "data": {
      "text/plain": [
       "<942711x494664 sparse matrix of type '<type 'numpy.int64'>'\n",
       "\twith 45912642 stored elements in Compressed Sparse Row format>"
      ]
     },
     "execution_count": 7,
     "metadata": {},
     "output_type": "execute_result"
    }
   ],
   "source": [
    "X_train_counts_bars"
   ]
  },
  {
   "cell_type": "markdown",
   "metadata": {},
   "source": [
    "# Restaurents vs Home Services"
   ]
  },
  {
   "cell_type": "code",
   "execution_count": 8,
   "metadata": {},
   "outputs": [
    {
     "name": "stdout",
     "output_type": "stream",
     "text": [
      "Number of features in Home_services: 124562\n",
      "Number of features in Restaurents: 953947\n"
     ]
    }
   ],
   "source": [
    "rest_list_features = count_vect_restaurents.get_feature_names()\n",
    "hs_list_features = count_vect.get_feature_names()\n",
    "print 'Number of features in Home_services: '+str(len(hs_list_features))\n",
    "print 'Number of features in Restaurents: '+str(len(rest_list_features))"
   ]
  },
  {
   "cell_type": "code",
   "execution_count": 9,
   "metadata": {},
   "outputs": [
    {
     "name": "stdout",
     "output_type": "stream",
     "text": [
      "Features of Home_services not in Restaurents: 57910\n",
      "Features of Restaurents not in Home_services: 887295\n"
     ]
    }
   ],
   "source": [
    "hs_feature_not_in_rest = list(set(hs_list_features) - set(rest_list_features))\n",
    "rest_feature_not_in_hs = list(set(rest_list_features) - set(hs_list_features))\n",
    "print 'Features of Home_services not in Restaurents: '+str(len(hs_feature_not_in_rest))\n",
    "print 'Features of Restaurents not in Home_services: '+str(len(rest_feature_not_in_hs))"
   ]
  },
  {
   "cell_type": "code",
   "execution_count": 10,
   "metadata": {},
   "outputs": [
    {
     "name": "stdout",
     "output_type": "stream",
     "text": [
      "New Total Number of features in Restaurents: 1011857\n"
     ]
    }
   ],
   "source": [
    "print 'New Total Number of features in Restaurents: '+ str(len(rest_list_features)+len(hs_feature_not_in_rest))"
   ]
  },
  {
   "cell_type": "code",
   "execution_count": 11,
   "metadata": {},
   "outputs": [
    {
     "name": "stdout",
     "output_type": "stream",
     "text": [
      "New Total Number of features in Home_services: 1011857\n"
     ]
    }
   ],
   "source": [
    "print 'New Total Number of features in Home_services: '+ str(len(hs_list_features)+len(rest_feature_not_in_hs))"
   ]
  },
  {
   "cell_type": "markdown",
   "metadata": {},
   "source": [
    "# Restaurents vs Bars"
   ]
  },
  {
   "cell_type": "code",
   "execution_count": 12,
   "metadata": {},
   "outputs": [
    {
     "name": "stdout",
     "output_type": "stream",
     "text": [
      "Number of features in Bars: 494664\n",
      "Number of features in Restaurents: 953947\n"
     ]
    }
   ],
   "source": [
    "rest_list_features = count_vect_restaurents.get_feature_names()\n",
    "bars_list_features = count_vect_bars.get_feature_names()\n",
    "print 'Number of features in Bars: '+str(len(bars_list_features))\n",
    "print 'Number of features in Restaurents: '+str(len(rest_list_features))"
   ]
  },
  {
   "cell_type": "code",
   "execution_count": 13,
   "metadata": {},
   "outputs": [
    {
     "name": "stdout",
     "output_type": "stream",
     "text": [
      "Features of Bars not in Restaurents: 86565\n",
      "Features of Restaurents not in bars: 545848\n"
     ]
    }
   ],
   "source": [
    "bars_feature_not_in_rest = list(set(bars_list_features) - set(rest_list_features))\n",
    "rest_feature_not_in_bars = list(set(rest_list_features) - set(bars_list_features))\n",
    "print 'Features of Bars not in Restaurents: '+str(len(bars_feature_not_in_rest))\n",
    "print 'Features of Restaurents not in bars: '+str(len(rest_feature_not_in_bars))"
   ]
  },
  {
   "cell_type": "code",
   "execution_count": 14,
   "metadata": {},
   "outputs": [
    {
     "name": "stdout",
     "output_type": "stream",
     "text": [
      "New Total Number of features in Restaurents: 1040512\n"
     ]
    }
   ],
   "source": [
    "print 'New Total Number of features in Restaurents: '+ str(len(rest_list_features)+len(bars_feature_not_in_rest))"
   ]
  },
  {
   "cell_type": "code",
   "execution_count": 15,
   "metadata": {},
   "outputs": [
    {
     "name": "stdout",
     "output_type": "stream",
     "text": [
      "New Total Number of features in Bars: 1040512\n"
     ]
    }
   ],
   "source": [
    "print 'New Total Number of features in Bars: '+ str(len(bars_list_features)+len(rest_feature_not_in_bars))"
   ]
  },
  {
   "cell_type": "code",
   "execution_count": null,
   "metadata": {},
   "outputs": [],
   "source": []
  },
  {
   "cell_type": "code",
   "execution_count": null,
   "metadata": {},
   "outputs": [],
   "source": []
  }
 ],
 "metadata": {
  "kernelspec": {
   "display_name": "Python 2",
   "language": "python",
   "name": "python2"
  },
  "language_info": {
   "codemirror_mode": {
    "name": "ipython",
    "version": 2
   },
   "file_extension": ".py",
   "mimetype": "text/x-python",
   "name": "python",
   "nbconvert_exporter": "python",
   "pygments_lexer": "ipython2",
   "version": "2.7.11"
  }
 },
 "nbformat": 4,
 "nbformat_minor": 2
}
