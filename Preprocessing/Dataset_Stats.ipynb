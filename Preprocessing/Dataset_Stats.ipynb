{
 "cells": [
  {
   "cell_type": "code",
   "execution_count": 1,
   "metadata": {},
   "outputs": [],
   "source": [
    "import pandas as pd\n",
    "import matplotlib.pyplot as plt\n",
    "import matplotlib\n",
    "import numpy as np\n",
    "import os\n",
    "%matplotlib inline"
   ]
  },
  {
   "cell_type": "code",
   "execution_count": 2,
   "metadata": {},
   "outputs": [],
   "source": [
    "csv_path = 'Reviews_By_Business/'"
   ]
  },
  {
   "cell_type": "code",
   "execution_count": 3,
   "metadata": {},
   "outputs": [],
   "source": [
    "def extract_stats(filename, csv_path):\n",
    "    df = pd.read_csv(csv_path+filename, index_col=0)\n",
    "    business = filename.split('_')[1]\n",
    "    print 'Business: '+business\n",
    "    print 'Number of reviews: '+str(len(df))\n",
    "    review_length = df.fillna('').astype(str).apply(lambda x:x.str.len()).mean()['text']\n",
    "    print 'Average review length: '+str(review_length)\n",
    "    df_neg = df[df['stars'].isin([1,2])]\n",
    "    df_pos = df[df['stars'].isin([4,5])]\n",
    "    df_3 = df[df['stars'] ==3]\n",
    "    print 'Positive: '+str(len(df_pos))+', Negative: '+str(len(df_neg))+', Neutral: '+str(len(df_3))\n",
    "    print '----------------------------------------------------------------'\n",
    "    return business, len(df), review_length, len(df_pos), len(df_neg), len(df_3)"
   ]
  },
  {
   "cell_type": "code",
   "execution_count": null,
   "metadata": {},
   "outputs": [
    {
     "name": "stdout",
     "output_type": "stream",
     "text": [
      "Business: Automotive\n",
      "Number of reviews: 164804\n",
      "Average review length: 631.278203199\n",
      "Positive: 107861, Negative: 50228, Neutral: 6715\n",
      "----------------------------------------------------------------\n",
      "Business: Bars\n",
      "Number of reviews: 942711\n",
      "Average review length: 625.195868087\n",
      "Positive: 610528, Negative: 194638, Neutral: 137545\n",
      "----------------------------------------------------------------\n",
      "Business: Beauty & Spas\n",
      "Number of reviews: 279738\n",
      "Average review length: 585.750538003\n",
      "Positive: 209289, Negative: 56560, Neutral: 13889\n",
      "----------------------------------------------------------------\n",
      "Business: Event Planning & Services\n",
      "Number of reviews: 346110\n",
      "Average review length: 740.475582907\n",
      "Positive: 213599, Negative: 84657, Neutral: 47854\n",
      "----------------------------------------------------------------\n"
     ]
    },
    {
     "name": "stderr",
     "output_type": "stream",
     "text": [
      "/usr/local/lib/python2.7/dist-packages/numpy/lib/arraysetops.py:463: FutureWarning: elementwise comparison failed; returning scalar instead, but in the future will perform elementwise comparison\n",
      "  mask |= (ar1 == a)\n"
     ]
    },
    {
     "name": "stdout",
     "output_type": "stream",
     "text": [
      "Business: Food\n",
      "Number of reviews: 1050541\n",
      "Average review length: 573.543051628\n",
      "Positive: 707047, Negative: 205983, Neutral: 137511\n",
      "----------------------------------------------------------------\n",
      "Business: Health & Medical\n",
      "Number of reviews: 147765\n",
      "Average review length: 645.634121747\n",
      "Positive: 104279, Negative: 38589, Neutral: 4897\n",
      "----------------------------------------------------------------\n"
     ]
    },
    {
     "name": "stderr",
     "output_type": "stream",
     "text": [
      "/usr/local/lib/python2.7/dist-packages/IPython/core/interactiveshell.py:2822: DtypeWarning: Columns (0) have mixed types. Specify dtype option on import or set low_memory=False.\n",
      "  if self.run_code(code, result):\n"
     ]
    },
    {
     "name": "stdout",
     "output_type": "stream",
     "text": [
      "Business: Home Services\n",
      "Number of reviews: 170625\n",
      "Average review length: 662.569318681\n",
      "Positive: 117475, Negative: 48527, Neutral: 4621\n",
      "----------------------------------------------------------------\n",
      "Business: Local Services\n",
      "Number of reviews: 123926\n",
      "Average review length: 570.281764924\n",
      "Positive: 90768, Negative: 28908, Neutral: 4250\n",
      "----------------------------------------------------------------\n",
      "Business: Nightlife\n",
      "Number of reviews: 780255\n",
      "Average review length: 642.647842052\n",
      "Positive: 498309, Negative: 164980, Neutral: 116966\n",
      "----------------------------------------------------------------\n",
      "Business: Restaurants\n",
      "Number of reviews: 2927732\n",
      "Average review length: 605.829456043\n",
      "Positive: 1902337, Negative: 607905, Neutral: 417488\n",
      "----------------------------------------------------------------"
     ]
    }
   ],
   "source": [
    "businesses = []\n",
    "no_of_reviews = []\n",
    "avg_review_length = []\n",
    "pos_reviews = []\n",
    "neg_reviews = []\n",
    "neutral_reviews = []\n",
    "\n",
    "for filename in os.listdir(csv_path):\n",
    "    if filename.endswith('csv'):\n",
    "        business, df_size, review_length, df_pos, df_neg, df_3 = extract_stats(filename, csv_path)\n",
    "        businesses.append(business)\n",
    "        no_of_reviews.append(df_size)\n",
    "        avg_review_length.append(review_length)\n",
    "        pos_reviews.append(df_pos)\n",
    "        neg_reviews.append(df_neg)\n",
    "        neutral_reviews.append(df_3)"
   ]
  },
  {
   "cell_type": "code",
   "execution_count": null,
   "metadata": {},
   "outputs": [],
   "source": [
    "font = {'family' : 'normal',\n",
    "        'weight' : 'normal',\n",
    "        'size'   : 20}\n",
    "\n",
    "matplotlib.rc('font', **font)"
   ]
  },
  {
   "cell_type": "code",
   "execution_count": null,
   "metadata": {},
   "outputs": [],
   "source": [
    "ind = np.arange(len(businesses))\n",
    "width = 0.4\n",
    "\n",
    "fig, ax = plt.subplots(figsize=(19, 16), dpi= 80)\n",
    "\n",
    "ax1 = ax.barh(ind, pos_reviews, width, left = 0, label='Positive Reviews', color='gold')\n",
    "ax2 = ax.barh(ind, neg_reviews, width, left = pos_reviews, label='Negative Reviews', color='red')\n",
    "neutral_left = [x+y for x, y in zip(pos_reviews, neg_reviews)]\n",
    "ax3 = ax.barh(ind, neutral_reviews, width, left = neutral_left, label='Neutral Reviews', color='#202020')\n",
    "ax.set(yticks=ind, yticklabels=businesses, ylim=[2*width - 1, len(businesses)])\n",
    "ax.legend()\n",
    "\n",
    "plt.show()\n",
    "fig.savefig(\"Number of reviews per domain.pdf\")"
   ]
  },
  {
   "cell_type": "code",
   "execution_count": null,
   "metadata": {},
   "outputs": [],
   "source": [
    "ind = np.arange(len(businesses))\n",
    "width = 0.4\n",
    "fig, ax = plt.subplots(figsize=(10, 8), dpi= 80)\n",
    "ax.barh(ind, avg_review_length, width, color='yellow', label='Average review length')\n",
    "ax.set(yticks=ind, yticklabels=businesses, ylim=[2*width - 1, len(businesses)])\n",
    "plt.show()"
   ]
  },
  {
   "cell_type": "code",
   "execution_count": null,
   "metadata": {},
   "outputs": [],
   "source": []
  },
  {
   "cell_type": "code",
   "execution_count": null,
   "metadata": {},
   "outputs": [],
   "source": []
  },
  {
   "cell_type": "code",
   "execution_count": null,
   "metadata": {},
   "outputs": [],
   "source": []
  },
  {
   "cell_type": "code",
   "execution_count": null,
   "metadata": {},
   "outputs": [],
   "source": []
  }
 ],
 "metadata": {
  "kernelspec": {
   "display_name": "Python 2",
   "language": "python",
   "name": "python2"
  },
  "language_info": {
   "codemirror_mode": {
    "name": "ipython",
    "version": 2
   },
   "file_extension": ".py",
   "mimetype": "text/x-python",
   "name": "python",
   "nbconvert_exporter": "python",
   "pygments_lexer": "ipython2",
   "version": "2.7.12"
  }
 },
 "nbformat": 4,
 "nbformat_minor": 2
}
