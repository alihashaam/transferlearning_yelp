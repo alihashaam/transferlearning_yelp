{
 "cells": [
  {
   "cell_type": "markdown",
   "metadata": {},
   "source": [
    "# Import the necessary libraries"
   ]
  },
  {
   "cell_type": "code",
   "execution_count": 1,
   "metadata": {},
   "outputs": [],
   "source": [
    "import sys\n",
    "sys.path.append(\"../../../Utils/\")"
   ]
  },
  {
   "cell_type": "code",
   "execution_count": 2,
   "metadata": {},
   "outputs": [],
   "source": [
    "from sklearn.externals import joblib\n",
    "from scipy.sparse import csr_matrix\n",
    "from sklearn.naive_bayes import MultinomialNB\n",
    "from sklearn.metrics import classification_report, confusion_matrix, accuracy_score, f1_score\n",
    "from sklearn.feature_selection import f_classif\n",
    "from sklearn.model_selection import train_test_split, GridSearchCV, cross_validate, cross_val_score\n",
    "import utils\n",
    "import pandas as pd\n",
    "import numpy as np\n",
    "import matplotlib as mpl\n",
    "import matplotlib.pyplot as plt\n",
    "import seaborn as sn\n",
    "%matplotlib inline"
   ]
  },
  {
   "cell_type": "markdown",
   "metadata": {},
   "source": [
    "# Load the data"
   ]
  },
  {
   "cell_type": "code",
   "execution_count": 3,
   "metadata": {},
   "outputs": [],
   "source": [
    "X_path = '/home/imad/Desktop/Yelp_vectorized_data/Baseline/Bars_X.pkl'\n",
    "y_path = '/home/imad/Desktop/Yelp_vectorized_data/Baseline/Bars_y.pkl'\n",
    "output_path = './Output/'"
   ]
  },
  {
   "cell_type": "code",
   "execution_count": 4,
   "metadata": {},
   "outputs": [
    {
     "data": {
      "text/plain": [
       "(942711, 423597)"
      ]
     },
     "execution_count": 4,
     "metadata": {},
     "output_type": "execute_result"
    }
   ],
   "source": [
    "# Load a sparse matrix of the text (reviews)\n",
    "X = joblib.load(X_path)\n",
    "X.shape"
   ]
  },
  {
   "cell_type": "code",
   "execution_count": 5,
   "metadata": {},
   "outputs": [
    {
     "data": {
      "text/plain": [
       "(942711,)"
      ]
     },
     "execution_count": 5,
     "metadata": {},
     "output_type": "execute_result"
    }
   ],
   "source": [
    "# Load the labels (ratings)\n",
    "y = joblib.load(y_path)\n",
    "y.shape"
   ]
  },
  {
   "cell_type": "code",
   "execution_count": 6,
   "metadata": {},
   "outputs": [],
   "source": [
    "X_train, X_test, y_train, y_test = train_test_split(X, y, test_size=0.3, random_state=0, stratify=y)"
   ]
  },
  {
   "cell_type": "markdown",
   "metadata": {},
   "source": [
    "# Remove 3-star ratings and re-label the training dataset"
   ]
  },
  {
   "cell_type": "code",
   "execution_count": 7,
   "metadata": {},
   "outputs": [
    {
     "data": {
      "text/plain": [
       "96281"
      ]
     },
     "execution_count": 7,
     "metadata": {},
     "output_type": "execute_result"
    }
   ],
   "source": [
    "neutral_ratings_ids = list(np.where(y_train == 3)[0])\n",
    "len(neutral_ratings_ids)"
   ]
  },
  {
   "cell_type": "code",
   "execution_count": 8,
   "metadata": {},
   "outputs": [],
   "source": [
    "X_train = utils.delete_from_csr(X_train, row_indices=neutral_ratings_ids)"
   ]
  },
  {
   "cell_type": "code",
   "execution_count": 9,
   "metadata": {},
   "outputs": [
    {
     "data": {
      "text/plain": [
       "(563616, 423597)"
      ]
     },
     "execution_count": 9,
     "metadata": {},
     "output_type": "execute_result"
    }
   ],
   "source": [
    "X_train.shape"
   ]
  },
  {
   "cell_type": "code",
   "execution_count": 10,
   "metadata": {},
   "outputs": [],
   "source": [
    "y_train = np.delete(y_train.tolist(), neutral_ratings_ids)"
   ]
  },
  {
   "cell_type": "code",
   "execution_count": 11,
   "metadata": {},
   "outputs": [],
   "source": [
    "for i in range(0, len(y_train)):\n",
    "    if y_train[i] == 1 or y_train[i] == 2:\n",
    "        y_train[i] = -1\n",
    "    else:\n",
    "        y_train[i] = 1"
   ]
  },
  {
   "cell_type": "code",
   "execution_count": 12,
   "metadata": {},
   "outputs": [
    {
     "data": {
      "text/plain": [
       "(563616,)"
      ]
     },
     "execution_count": 12,
     "metadata": {},
     "output_type": "execute_result"
    }
   ],
   "source": [
    "y_train.shape"
   ]
  },
  {
   "cell_type": "markdown",
   "metadata": {},
   "source": [
    "# Re-label in the test dataset:\n",
    "## 0,1 -> -1\n",
    "## 4, 5 -> 1\n",
    "## 3 -> 0"
   ]
  },
  {
   "cell_type": "code",
   "execution_count": 13,
   "metadata": {},
   "outputs": [],
   "source": [
    "for i in y_test.index:\n",
    "    if y_test[i] == 1 or y_test[i] == 2:\n",
    "        y_test[i] = -1\n",
    "    elif y_test[i] == 4 or y_test[i] == 5:\n",
    "        y_test[i] = 1\n",
    "    else:\n",
    "        y_test[i] = 0"
   ]
  },
  {
   "cell_type": "code",
   "execution_count": 14,
   "metadata": {},
   "outputs": [
    {
     "data": {
      "text/plain": [
       " 1    183159\n",
       "-1     58391\n",
       " 0     41264\n",
       "Name: stars, dtype: int64"
      ]
     },
     "execution_count": 14,
     "metadata": {},
     "output_type": "execute_result"
    }
   ],
   "source": [
    "y_test.value_counts()"
   ]
  },
  {
   "cell_type": "code",
   "execution_count": 15,
   "metadata": {},
   "outputs": [
    {
     "data": {
      "image/png": "[encoded data removed]",
      "text/plain": [
       "<matplotlib.figure.Figure at 0x7f5828f64cd0>"
      ]
     },
     "metadata": {},
     "output_type": "display_data"
    }
   ],
   "source": [
    "# Rating Distribution\n",
    "values, counts = np.unique(y_train, return_counts=True)\n",
    "colors = ['gold', 'yellowgreen']\n",
    "\n",
    "# Plot\n",
    "mpl.rcParams['font.size'] = 20.0\n",
    "f = plt.figure()\n",
    "f.set_size_inches(16,9)\n",
    "plt.pie(counts, labels=['Negative', 'Positive'], colors=colors, autopct='%1.2f%%')\n",
    "plt.axis('equal')\n",
    "plt.show()\n",
    "f.savefig(output_path + 'Distribution.pdf')"
   ]
  },
  {
   "cell_type": "markdown",
   "metadata": {},
   "source": [
    "# MNB Smoothing-Parameter Optimization"
   ]
  },
  {
   "cell_type": "code",
   "execution_count": 16,
   "metadata": {},
   "outputs": [
    {
     "data": {
      "text/plain": [
       "MultinomialNB(alpha=1.0, class_prior=None, fit_prior=True)"
      ]
     },
     "execution_count": 16,
     "metadata": {},
     "output_type": "execute_result"
    }
   ],
   "source": [
    "MNB = MultinomialNB()\n",
    "MNB"
   ]
  },
  {
   "cell_type": "code",
   "execution_count": 17,
   "metadata": {},
   "outputs": [
    {
     "data": {
      "text/plain": [
       "GridSearchCV(cv=None, error_score='raise',\n",
       "       estimator=MultinomialNB(alpha=1.0, class_prior=None, fit_prior=True),\n",
       "       fit_params=None, iid=True, n_jobs=1,\n",
       "       param_grid={'alpha': array([0.1, 0.2, 0.3, 0.4, 0.5, 0.6, 0.7, 0.8, 0.9, 1. ])},\n",
       "       pre_dispatch='2*n_jobs', refit=True, return_train_score='warn',\n",
       "       scoring='f1_weighted', verbose=0)"
      ]
     },
     "execution_count": 17,
     "metadata": {},
     "output_type": "execute_result"
    }
   ],
   "source": [
    "params = {'alpha': np.arange(0.1, 1.1, 0.1)}\n",
    "grid = GridSearchCV(MNB, params, scoring='f1_weighted')\n",
    "grid.fit(X_train, y_train)"
   ]
  },
  {
   "cell_type": "code",
   "execution_count": 18,
   "metadata": {},
   "outputs": [
    {
     "data": {
      "text/plain": [
       "MultinomialNB(alpha=1.0, class_prior=None, fit_prior=True)"
      ]
     },
     "execution_count": 18,
     "metadata": {},
     "output_type": "execute_result"
    }
   ],
   "source": [
    "grid.best_estimator_"
   ]
  },
  {
   "cell_type": "code",
   "execution_count": 19,
   "metadata": {},
   "outputs": [
    {
     "name": "stderr",
     "output_type": "stream",
     "text": [
      "/home/imad/anaconda2/lib/python2.7/site-packages/sklearn/model_selection/_search.py:761: DeprecationWarning: The grid_scores_ attribute was deprecated in version 0.18 in favor of the more elaborate cv_results_ attribute. The grid_scores_ attribute will not be available from 0.20\n",
      "  DeprecationWarning)\n"
     ]
    },
    {
     "data": {
      "text/plain": [
       "[mean: 0.92112, std: 0.00080, params: {'alpha': 0.1},\n",
       " mean: 0.92181, std: 0.00087, params: {'alpha': 0.2},\n",
       " mean: 0.92212, std: 0.00073, params: {'alpha': 0.30000000000000004},\n",
       " mean: 0.92243, std: 0.00068, params: {'alpha': 0.4},\n",
       " mean: 0.92261, std: 0.00074, params: {'alpha': 0.5},\n",
       " mean: 0.92269, std: 0.00075, params: {'alpha': 0.6},\n",
       " mean: 0.92285, std: 0.00075, params: {'alpha': 0.7000000000000001},\n",
       " mean: 0.92285, std: 0.00074, params: {'alpha': 0.8},\n",
       " mean: 0.92290, std: 0.00077, params: {'alpha': 0.9},\n",
       " mean: 0.92294, std: 0.00079, params: {'alpha': 1.0}]"
      ]
     },
     "execution_count": 19,
     "metadata": {},
     "output_type": "execute_result"
    }
   ],
   "source": [
    "grid.grid_scores_"
   ]
  },
  {
   "cell_type": "code",
   "execution_count": 20,
   "metadata": {},
   "outputs": [],
   "source": [
    "MNB = grid.best_estimator_"
   ]
  },
  {
   "cell_type": "markdown",
   "metadata": {},
   "source": [
    "# Cross-validation"
   ]
  },
  {
   "cell_type": "code",
   "execution_count": 21,
   "metadata": {},
   "outputs": [
    {
     "data": {
      "text/plain": [
       "array([0.9214486 , 0.92417478, 0.92309012, 0.92463978, 0.92230239])"
      ]
     },
     "execution_count": 21,
     "metadata": {},
     "output_type": "execute_result"
    }
   ],
   "source": [
    "MNB_scores = cross_val_score(MNB, X_train, y_train, cv=5, scoring='f1_weighted')\n",
    "MNB_scores"
   ]
  },
  {
   "cell_type": "markdown",
   "metadata": {},
   "source": [
    "# Save the trained model in a pickle file"
   ]
  },
  {
   "cell_type": "code",
   "execution_count": 22,
   "metadata": {},
   "outputs": [
    {
     "data": {
      "text/plain": [
       "['./Output/MNB_b_b.pkl']"
      ]
     },
     "execution_count": 22,
     "metadata": {},
     "output_type": "execute_result"
    }
   ],
   "source": [
    "joblib.dump(MNB, output_path + 'MNB_b_b.pkl')"
   ]
  },
  {
   "cell_type": "markdown",
   "metadata": {},
   "source": [
    "# Apply the model on the test data"
   ]
  },
  {
   "cell_type": "code",
   "execution_count": 23,
   "metadata": {},
   "outputs": [
    {
     "name": "stdout",
     "output_type": "stream",
     "text": [
      "Predictions: [ 1  1  1 ... -1 -1  1]\n",
      "Predictions Probabilities: [[0.   1.  ]\n",
      " [0.   1.  ]\n",
      " [0.   1.  ]\n",
      " ...\n",
      " [1.   0.  ]\n",
      " [0.99 0.01]\n",
      " [0.   1.  ]]\n"
     ]
    }
   ],
   "source": [
    "MNB_pred = MNB.predict(X_test)\n",
    "MNB_pred_prob = MNB.predict_proba(X_test)\n",
    "print('Predictions: {}'.format(MNB_pred))\n",
    "print('Predictions Probabilities: {}'.format(MNB_pred_prob.round(2)))"
   ]
  },
  {
   "cell_type": "markdown",
   "metadata": {},
   "source": [
    "# Choose a range of probabilities where the model is confused"
   ]
  },
  {
   "cell_type": "code",
   "execution_count": 24,
   "metadata": {},
   "outputs": [
    {
     "data": {
      "text/plain": [
       "count    282814.000000\n",
       "mean          0.942120\n",
       "std           0.167954\n",
       "min           0.000024\n",
       "25%           0.991901\n",
       "50%           0.999928\n",
       "75%           1.000000\n",
       "max           1.000000\n",
       "dtype: float64"
      ]
     },
     "execution_count": 24,
     "metadata": {},
     "output_type": "execute_result"
    }
   ],
   "source": [
    "# Calculate the difference between the two prediction of a data point\n",
    "diff = [abs(pred[0] - pred[1]) for pred in MNB_pred_prob]\n",
    "diff_sr = pd.Series(diff)\n",
    "diff_sr.describe()"
   ]
  },
  {
   "cell_type": "code",
   "execution_count": 25,
   "metadata": {},
   "outputs": [
    {
     "data": {
      "image/png": "[encoded data removed]",
      "text/plain": [
       "<matplotlib.figure.Figure at 0x7f5828f64bd0>"
      ]
     },
     "metadata": {},
     "output_type": "display_data"
    }
   ],
   "source": [
    "p = diff_sr.plot.box(figsize=(16,9), label='Diff_Prob_Box')\n",
    "p.figure.savefig(output_path + 'Diff_Prob_Box.pdf')"
   ]
  },
  {
   "cell_type": "code",
   "execution_count": 26,
   "metadata": {},
   "outputs": [
    {
     "data": {
      "image/png": "[encoded data removed]",
      "text/plain": [
       "<matplotlib.figure.Figure at 0x7f5827762810>"
      ]
     },
     "metadata": {},
     "output_type": "display_data"
    }
   ],
   "source": [
    "p = diff_sr.hist(bins=50, figsize=(16,9), grid=False)\n",
    "p.set_xlabel('The Distribution of Probability Difference')\n",
    "p.figure.savefig(output_path + 'Diff_Prob_Hist.pdf')"
   ]
  },
  {
   "cell_type": "code",
   "execution_count": 27,
   "metadata": {},
   "outputs": [
    {
     "name": "stdout",
     "output_type": "stream",
     "text": [
      "15942\n"
     ]
    }
   ],
   "source": [
    "# If the difference between the p(0|x) and p(1|x) is smaller than 0.6 (it's enough as a threshold)\n",
    "ix_ambig = [ix for ix in range(MNB_pred_prob.shape[0]) if abs(MNB_pred_prob[ix][0] - MNB_pred_prob[ix][1]) < 0.6]\n",
    "print(len(ix_ambig))"
   ]
  },
  {
   "cell_type": "code",
   "execution_count": 28,
   "metadata": {},
   "outputs": [],
   "source": [
    "# Label all the ambiguous data points as 3-star\n",
    "for i in ix_ambig:\n",
    "    MNB_pred[i] = 0"
   ]
  },
  {
   "cell_type": "code",
   "execution_count": 29,
   "metadata": {},
   "outputs": [
    {
     "data": {
      "text/plain": [
       " 1    202891\n",
       "-1     63981\n",
       " 0     15942\n",
       "dtype: int64"
      ]
     },
     "execution_count": 29,
     "metadata": {},
     "output_type": "execute_result"
    }
   ],
   "source": [
    "pd.Series(MNB_pred).value_counts()"
   ]
  },
  {
   "cell_type": "code",
   "execution_count": 30,
   "metadata": {},
   "outputs": [
    {
     "data": {
      "text/plain": [
       "['./Output/Predictions.pkl']"
      ]
     },
     "execution_count": 30,
     "metadata": {},
     "output_type": "execute_result"
    }
   ],
   "source": [
    "joblib.dump(MNB_pred, output_path + 'Predictions.pkl')"
   ]
  },
  {
   "cell_type": "markdown",
   "metadata": {},
   "source": [
    "# MNB Results"
   ]
  },
  {
   "cell_type": "code",
   "execution_count": 31,
   "metadata": {},
   "outputs": [
    {
     "name": "stdout",
     "output_type": "stream",
     "text": [
      "Model Accuracy: 0.78\n"
     ]
    }
   ],
   "source": [
    "MNB_accuracy = round(accuracy_score(y_test, MNB_pred), 2)\n",
    "print('Model Accuracy: {}'.format(MNB_accuracy))\n",
    "with open(output_path + 'Accuracy.txt', 'wb') as f:\n",
    "    f.write(str(MNB_accuracy))"
   ]
  },
  {
   "cell_type": "code",
   "execution_count": 32,
   "metadata": {},
   "outputs": [
    {
     "name": "stdout",
     "output_type": "stream",
     "text": [
      "Model F1-Score: 0.75\n"
     ]
    }
   ],
   "source": [
    "MNB_f1 = round(f1_score(y_test, MNB_pred,average='weighted'), 2)\n",
    "print('Model F1-Score: {}'.format(MNB_f1))\n",
    "with open(output_path + 'F1.txt', 'wb') as f:\n",
    "    f.write(str(MNB_f1))"
   ]
  },
  {
   "cell_type": "code",
   "execution_count": 33,
   "metadata": {},
   "outputs": [
    {
     "name": "stdout",
     "output_type": "stream",
     "text": [
      "Confusion Matrix:\n",
      "[[ 45918   5234   7239]\n",
      " [ 11405   4893  24966]\n",
      " [  6658   5815 170686]]\n"
     ]
    }
   ],
   "source": [
    "MNB_CM = confusion_matrix(y_test, MNB_pred)\n",
    "print('Confusion Matrix:\\n{}'.format(MNB_CM))"
   ]
  },
  {
   "cell_type": "code",
   "execution_count": 34,
   "metadata": {},
   "outputs": [
    {
     "data": {
      "image/png": "[encoded data removed]",
      "text/plain": [
       "<matplotlib.figure.Figure at 0x7f581d78a190>"
      ]
     },
     "metadata": {},
     "output_type": "display_data"
    }
   ],
   "source": [
    "mpl.rcParams['font.size'] = 13.0\n",
    "utils.cm_plot(MNB_CM, ['Negative', 'Neutral', 'Positive'], 'MNB Normalized Confusion Matrix', output_path + 'MNB_CM.pdf')"
   ]
  },
  {
   "cell_type": "code",
   "execution_count": 35,
   "metadata": {},
   "outputs": [
    {
     "name": "stdout",
     "output_type": "stream",
     "text": [
      "             precision    recall  f1-score   support\n",
      "\n",
      "         -1       0.72      0.79      0.75     58391\n",
      "          0       0.31      0.12      0.17     41264\n",
      "          1       0.84      0.93      0.88    183159\n",
      "\n",
      "avg / total       0.74      0.78      0.75    282814\n",
      "\n"
     ]
    }
   ],
   "source": [
    "print(classification_report(y_test, MNB_pred))"
   ]
  },
  {
   "cell_type": "code",
   "execution_count": null,
   "metadata": {},
   "outputs": [],
   "source": []
  }
 ],
 "metadata": {
  "kernelspec": {
   "display_name": "Python 2",
   "language": "python",
   "name": "python2"
  },
  "language_info": {
   "codemirror_mode": {
    "name": "ipython",
    "version": 2
   },
   "file_extension": ".py",
   "mimetype": "text/x-python",
   "name": "python",
   "nbconvert_exporter": "python",
   "pygments_lexer": "ipython2",
   "version": "2.7.14"
  }
 },
 "nbformat": 4,
 "nbformat_minor": 2
}
