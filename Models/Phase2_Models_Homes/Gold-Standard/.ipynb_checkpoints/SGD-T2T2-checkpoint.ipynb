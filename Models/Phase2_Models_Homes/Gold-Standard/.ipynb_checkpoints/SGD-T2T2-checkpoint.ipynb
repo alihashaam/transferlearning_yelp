{
 "cells": [
  {
   "cell_type": "markdown",
   "metadata": {},
   "source": [
    "# Import the necessary libraries"
   ]
  },
  {
   "cell_type": "code",
   "execution_count": 1,
   "metadata": {},
   "outputs": [],
   "source": [
    "import sys\n",
    "sys.path.append(\"../Utils/\")"
   ]
  },
  {
   "cell_type": "code",
   "execution_count": 2,
   "metadata": {},
   "outputs": [],
   "source": [
    "from sklearn.externals import joblib\n",
    "from sklearn.preprocessing import scale\n",
    "from scipy.sparse import csr_matrix\n",
    "from sklearn.linear_model import SGDClassifier\n",
    "from sklearn.metrics import classification_report, confusion_matrix, cohen_kappa_score, accuracy_score\n",
    "from sklearn.dummy import DummyClassifier\n",
    "from sklearn.feature_selection import f_classif\n",
    "from sklearn.model_selection import train_test_split, GridSearchCV, cross_validate, cross_val_predict\n",
    "import utils\n",
    "import pandas as pd\n",
    "import numpy as np\n",
    "import matplotlib as mpl\n",
    "import matplotlib.pyplot as plt\n",
    "import seaborn as sn\n",
    "%matplotlib inline"
   ]
  },
  {
   "cell_type": "markdown",
   "metadata": {},
   "source": [
    "# Choose the training dataset"
   ]
  },
  {
   "cell_type": "code",
   "execution_count": 3,
   "metadata": {},
   "outputs": [],
   "source": [
    "# Enter 1 for Restaurants(Default), 2 for Bars and 3 for Home_Services\n",
    "option = 3\n",
    "X_path = None\n",
    "y_path = None\n",
    "charts_path = None\n",
    "model_path = None\n",
    "\n",
    "if option == 2:\n",
    "    X_path = '/home/imad/Desktop/Yelp_vectorized_data/Baseline/Bars_X.pkl'\n",
    "    y_path = '/home/imad/Desktop/Yelp_vectorized_data/Baseline/Bars_y.pkl'\n",
    "    charts_path = './Charts/SGD-T2T2/Bars/'\n",
    "    model_path = './Trained_models/Bars/SGD-T2T2.pkl'\n",
    "elif option == 3:\n",
    "    X_path = '/home/imad/Desktop/Yelp_vectorized_data/Baseline/Home Services_X.pkl'\n",
    "    y_path = '/home/imad/Desktop/Yelp_vectorized_data/Baseline/Home_Services_y.pkl'\n",
    "    charts_path = './Charts/SGD-T2T2/Home_Services/'\n",
    "    model_path = './Trained_models/Home_Services/SGD-T2T2'\n",
    "else:\n",
    "    X_path = '/home/imad/Desktop/Yelp_vectorized_data/Baseline/Restaurants_X.pkl'\n",
    "    y_path = '/home/imad/Desktop/Yelp_vectorized_data/Baseline/Restaurants_y.pkl'\n",
    "    charts_path = './Charts/SGD-T2T2/Restaurants/'\n",
    "    model_path = './Trained_models/Restaurants/SGD-T2T2.pkl'"
   ]
  },
  {
   "cell_type": "markdown",
   "metadata": {},
   "source": [
    "# Load the data"
   ]
  },
  {
   "cell_type": "code",
   "execution_count": 4,
   "metadata": {},
   "outputs": [
    {
     "data": {
      "text/plain": [
       "(170623, 108845)"
      ]
     },
     "execution_count": 4,
     "metadata": {},
     "output_type": "execute_result"
    }
   ],
   "source": [
    "# Load a sparse matrix of the text (reviews)\n",
    "X = joblib.load(X_path)\n",
    "X.shape"
   ]
  },
  {
   "cell_type": "code",
   "execution_count": 5,
   "metadata": {},
   "outputs": [
    {
     "data": {
      "text/plain": [
       "(170623,)"
      ]
     },
     "execution_count": 5,
     "metadata": {},
     "output_type": "execute_result"
    }
   ],
   "source": [
    "# Load the labels (ratings)\n",
    "y = joblib.load(y_path)\n",
    "y.shape"
   ]
  },
  {
   "cell_type": "markdown",
   "metadata": {},
   "source": [
    "# Removing 3-star ratings"
   ]
  },
  {
   "cell_type": "code",
   "execution_count": 6,
   "metadata": {},
   "outputs": [
    {
     "data": {
      "text/plain": [
       "4621"
      ]
     },
     "execution_count": 6,
     "metadata": {},
     "output_type": "execute_result"
    }
   ],
   "source": [
    "neutral_ratings_ids = list(np.where(y == 3)[0])\n",
    "len(neutral_ratings_ids)"
   ]
  },
  {
   "cell_type": "code",
   "execution_count": 7,
   "metadata": {},
   "outputs": [],
   "source": [
    "X_clean = utils.delete_from_csr(X, row_indices=neutral_ratings_ids)"
   ]
  },
  {
   "cell_type": "code",
   "execution_count": 8,
   "metadata": {},
   "outputs": [
    {
     "data": {
      "text/plain": [
       "(166002, 108845)"
      ]
     },
     "execution_count": 8,
     "metadata": {},
     "output_type": "execute_result"
    }
   ],
   "source": [
    "X_clean.shape"
   ]
  },
  {
   "cell_type": "markdown",
   "metadata": {},
   "source": [
    "# Plorizing 1, 2 as 0 / 4, 5 as 1"
   ]
  },
  {
   "cell_type": "code",
   "execution_count": 9,
   "metadata": {},
   "outputs": [],
   "source": [
    "y_clean = np.delete(y.tolist(), neutral_ratings_ids)\n",
    "\n",
    "for i in range(0, len(y_clean)):\n",
    "    if y_clean[i] == 1 or y_clean[i] == 2:\n",
    "        y_clean[i] = 0\n",
    "    else:\n",
    "        y_clean[i] = 1"
   ]
  },
  {
   "cell_type": "code",
   "execution_count": 10,
   "metadata": {},
   "outputs": [
    {
     "data": {
      "text/plain": [
       "(166002,)"
      ]
     },
     "execution_count": 10,
     "metadata": {},
     "output_type": "execute_result"
    }
   ],
   "source": [
    "y_clean.shape"
   ]
  },
  {
   "cell_type": "code",
   "execution_count": 11,
   "metadata": {},
   "outputs": [
    {
     "data": {
      "image/png": "[encoded data removed]",
      "text/plain": [
       "<matplotlib.figure.Figure at 0x7f0ff31edf10>"
      ]
     },
     "metadata": {},
     "output_type": "display_data"
    }
   ],
   "source": [
    "# Rating Distribution\n",
    "values, counts = np.unique(y_clean, return_counts=True)\n",
    "colors = ['gold', 'yellowgreen']\n",
    "\n",
    "# Plot\n",
    "mpl.rcParams['font.size'] = 13.0\n",
    "f = plt.figure()\n",
    "f.set_size_inches(16,9)\n",
    "plt.pie(counts, labels=['Negative', 'Positive'], colors=colors, autopct='%1.2f%%')\n",
    "plt.axis('equal')\n",
    "plt.show()\n",
    "f.savefig(charts_path + 'Distribution.pdf')"
   ]
  },
  {
   "cell_type": "markdown",
   "metadata": {},
   "source": [
    "# Feature Selection"
   ]
  },
  {
   "cell_type": "code",
   "execution_count": 12,
   "metadata": {},
   "outputs": [
    {
     "name": "stdout",
     "output_type": "stream",
     "text": [
      "[2.32105389 5.47361759 1.52479392 ... 0.14963491 0.14963491 0.76237886]\n",
      "[5.43794722e-02 2.10473558e-04 1.91868480e-01 ... 9.63225556e-01\n",
      " 9.63225556e-01 5.49575132e-01]\n"
     ]
    }
   ],
   "source": [
    "F_scores, P_values = f_classif(X, y)\n",
    "print(F_scores)\n",
    "print(P_values)"
   ]
  },
  {
   "cell_type": "code",
   "execution_count": 13,
   "metadata": {},
   "outputs": [],
   "source": [
    "# Delete high P_values support the null Hypothesis H0\n",
    "feat_to_delete = []\n",
    "for i in range(0, len(P_values)):\n",
    "    if(P_values[i] > 0.05):\n",
    "        feat_to_delete.append(i)"
   ]
  },
  {
   "cell_type": "code",
   "execution_count": 14,
   "metadata": {},
   "outputs": [
    {
     "data": {
      "text/plain": [
       "<166002x29837 sparse matrix of type '<type 'numpy.int64'>'\n",
       "\twith 7559849 stored elements in Compressed Sparse Row format>"
      ]
     },
     "execution_count": 14,
     "metadata": {},
     "output_type": "execute_result"
    }
   ],
   "source": [
    "X_features_selected = utils.delete_from_csr(X_clean, col_indices=feat_to_delete)\n",
    "X_features_selected"
   ]
  },
  {
   "cell_type": "code",
   "execution_count": 15,
   "metadata": {},
   "outputs": [
    {
     "name": "stdout",
     "output_type": "stream",
     "text": [
      "Total number of features: 108845\n",
      "Number of deleted features: 79008\n",
      "Number of remaining features: 29837\n"
     ]
    }
   ],
   "source": [
    "print('Total number of features: {}'.format(len(F_scores)))\n",
    "print('Number of deleted features: {}'.format(len(feat_to_delete)))\n",
    "print('Number of remaining features: {}'.format( len(F_scores) - len(feat_to_delete) ))"
   ]
  },
  {
   "cell_type": "markdown",
   "metadata": {},
   "source": [
    "# Scaling the data, because SVMs is sensitive to unscaled data"
   ]
  },
  {
   "cell_type": "code",
   "execution_count": 16,
   "metadata": {},
   "outputs": [
    {
     "name": "stderr",
     "output_type": "stream",
     "text": [
      "/home/imad/anaconda2/lib/python2.7/site-packages/sklearn/utils/validation.py:475: DataConversionWarning: Data with input dtype int64 was converted to float64 by the scale function.\n",
      "  warnings.warn(msg, DataConversionWarning)\n"
     ]
    }
   ],
   "source": [
    "X_scaled = scale(X_features_selected, with_mean=False)"
   ]
  },
  {
   "cell_type": "markdown",
   "metadata": {},
   "source": [
    "# Optimizing SGD paramters"
   ]
  },
  {
   "cell_type": "code",
   "execution_count": 17,
   "metadata": {},
   "outputs": [
    {
     "data": {
      "text/plain": [
       "SGDClassifier(alpha=0.0001, average=False, class_weight='balanced',\n",
       "       epsilon=0.1, eta0=0.0, fit_intercept=True, l1_ratio=0.15,\n",
       "       learning_rate='optimal', loss='hinge', max_iter=None, n_iter=None,\n",
       "       n_jobs=1, penalty='l2', power_t=0.5, random_state=0, shuffle=True,\n",
       "       tol=None, verbose=0, warm_start=False)"
      ]
     },
     "execution_count": 17,
     "metadata": {},
     "output_type": "execute_result"
    }
   ],
   "source": [
    "sgd = SGDClassifier(class_weight='balanced', random_state=0)\n",
    "sgd"
   ]
  },
  {
   "cell_type": "code",
   "execution_count": 18,
   "metadata": {},
   "outputs": [
    {
     "name": "stderr",
     "output_type": "stream",
     "text": [
      "/home/imad/anaconda2/lib/python2.7/site-packages/sklearn/linear_model/stochastic_gradient.py:128: FutureWarning: max_iter and tol parameters have been added in <class 'sklearn.linear_model.stochastic_gradient.SGDClassifier'> in 0.19. If both are left unset, they default to max_iter=5 and tol=None. If tol is not None, max_iter defaults to max_iter=1000. From 0.21, default max_iter will be 1000, and default tol will be 1e-3.\n",
      "  \"and default tol will be 1e-3.\" % type(self), FutureWarning)\n"
     ]
    },
    {
     "data": {
      "text/plain": [
       "GridSearchCV(cv=None, error_score='raise',\n",
       "       estimator=SGDClassifier(alpha=0.0001, average=False, class_weight='balanced',\n",
       "       epsilon=0.1, eta0=0.0, fit_intercept=True, l1_ratio=0.15,\n",
       "       learning_rate='optimal', loss='hinge', max_iter=None, n_iter=None,\n",
       "       n_jobs=1, penalty='l2', power_t=0.5, random_state=0, shuffle=True,\n",
       "       tol=None, verbose=0, warm_start=False),\n",
       "       fit_params=None, iid=True, n_jobs=1,\n",
       "       param_grid={'alpha': array([5.0e-05, 6.0e-05, 7.0e-05, 8.0e-05, 9.0e-05, 1.0e-04, 1.1e-04,\n",
       "       1.2e-04, 1.3e-04, 1.4e-04])},\n",
       "       pre_dispatch='2*n_jobs', refit=True, return_train_score='warn',\n",
       "       scoring='f1_weighted', verbose=0)"
      ]
     },
     "execution_count": 18,
     "metadata": {},
     "output_type": "execute_result"
    }
   ],
   "source": [
    "params = {'alpha': np.arange(0.00005 , 0.00015, 0.00001)}\n",
    "grid = GridSearchCV(sgd, params, scoring='f1_weighted')\n",
    "grid.fit(X_scaled, y_clean)"
   ]
  },
  {
   "cell_type": "code",
   "execution_count": 19,
   "metadata": {},
   "outputs": [
    {
     "data": {
      "text/plain": [
       "SGDClassifier(alpha=9.999999999999999e-05, average=False,\n",
       "       class_weight='balanced', epsilon=0.1, eta0=0.0, fit_intercept=True,\n",
       "       l1_ratio=0.15, learning_rate='optimal', loss='hinge', max_iter=None,\n",
       "       n_iter=None, n_jobs=1, penalty='l2', power_t=0.5, random_state=0,\n",
       "       shuffle=True, tol=None, verbose=0, warm_start=False)"
      ]
     },
     "execution_count": 19,
     "metadata": {},
     "output_type": "execute_result"
    }
   ],
   "source": [
    "grid.best_estimator_"
   ]
  },
  {
   "cell_type": "code",
   "execution_count": 20,
   "metadata": {},
   "outputs": [
    {
     "name": "stderr",
     "output_type": "stream",
     "text": [
      "/home/imad/anaconda2/lib/python2.7/site-packages/sklearn/model_selection/_search.py:761: DeprecationWarning: The grid_scores_ attribute was deprecated in version 0.18 in favor of the more elaborate cv_results_ attribute. The grid_scores_ attribute will not be available from 0.20\n",
      "  DeprecationWarning)\n"
     ]
    },
    {
     "data": {
      "text/plain": [
       "[mean: 0.94189, std: 0.00176, params: {'alpha': 5e-05},\n",
       " mean: 0.94238, std: 0.00164, params: {'alpha': 6e-05},\n",
       " mean: 0.94251, std: 0.00121, params: {'alpha': 7e-05},\n",
       " mean: 0.94226, std: 0.00176, params: {'alpha': 7.999999999999999e-05},\n",
       " mean: 0.94232, std: 0.00201, params: {'alpha': 8.999999999999999e-05},\n",
       " mean: 0.94254, std: 0.00210, params: {'alpha': 9.999999999999999e-05},\n",
       " mean: 0.94224, std: 0.00211, params: {'alpha': 0.00010999999999999999},\n",
       " mean: 0.94194, std: 0.00109, params: {'alpha': 0.00011999999999999999},\n",
       " mean: 0.94203, std: 0.00244, params: {'alpha': 0.00013},\n",
       " mean: 0.94184, std: 0.00224, params: {'alpha': 0.00014}]"
      ]
     },
     "execution_count": 20,
     "metadata": {},
     "output_type": "execute_result"
    }
   ],
   "source": [
    "grid.grid_scores_"
   ]
  },
  {
   "cell_type": "code",
   "execution_count": 21,
   "metadata": {},
   "outputs": [],
   "source": [
    "sgd = grid.best_estimator_"
   ]
  },
  {
   "cell_type": "markdown",
   "metadata": {},
   "source": [
    "# Save the trained model in a pickle file"
   ]
  },
  {
   "cell_type": "code",
   "execution_count": 22,
   "metadata": {},
   "outputs": [
    {
     "data": {
      "text/plain": [
       "['./Trained_models/Home_Services/SGD-T2T2']"
      ]
     },
     "execution_count": 22,
     "metadata": {},
     "output_type": "execute_result"
    }
   ],
   "source": [
    "joblib.dump(sgd, model_path)"
   ]
  },
  {
   "cell_type": "markdown",
   "metadata": {},
   "source": [
    "# Cross-validation"
   ]
  },
  {
   "cell_type": "code",
   "execution_count": 23,
   "metadata": {},
   "outputs": [],
   "source": [
    "scores = ['precision_weighted', 'recall_weighted', 'f1_weighted']"
   ]
  },
  {
   "cell_type": "code",
   "execution_count": 24,
   "metadata": {},
   "outputs": [
    {
     "data": {
      "text/plain": [
       "{'test_f1_weighted': array([0.94252317, 0.94205282, 0.94146694, 0.94446254, 0.94340458]),\n",
       " 'test_precision_weighted': array([0.94332005, 0.9434447 , 0.94234436, 0.94523505, 0.94446272]),\n",
       " 'test_recall_weighted': array([0.9421403 , 0.94150779, 0.94105422, 0.94409639, 0.94295181])}"
      ]
     },
     "execution_count": 24,
     "metadata": {},
     "output_type": "execute_result"
    }
   ],
   "source": [
    "sgd_scores = cross_validate(sgd, X_scaled, y_clean, cv=5, scoring=scores, return_train_score=False)\n",
    "del sgd_scores['fit_time']\n",
    "del sgd_scores['score_time']\n",
    "sgd_scores"
   ]
  },
  {
   "cell_type": "code",
   "execution_count": 25,
   "metadata": {},
   "outputs": [
    {
     "name": "stdout",
     "output_type": "stream",
     "text": [
      "F1 Mean: 0.942782010661\n",
      "F1 Standard Deviation: 0.00105260614121\n"
     ]
    }
   ],
   "source": [
    "f1 = sgd_scores.get('test_f1_weighted')\n",
    "f1_mean = f1.mean()\n",
    "f1_std = f1.std()\n",
    "print('F1 Mean: {}'.format(f1_mean))\n",
    "print('F1 Standard Deviation: {}'.format(f1_std))"
   ]
  },
  {
   "cell_type": "code",
   "execution_count": 26,
   "metadata": {},
   "outputs": [
    {
     "name": "stdout",
     "output_type": "stream",
     "text": [
      "Precision Mean: 0.943761376614\n",
      "Precision Standard Deviation: 0.000996652551545\n"
     ]
    }
   ],
   "source": [
    "precision = sgd_scores.get('test_precision_weighted')\n",
    "precision_mean = precision.mean()\n",
    "precision_std = precision.std()\n",
    "print('Precision Mean: {}'.format(precision_mean))\n",
    "print('Precision Standard Deviation: {}'.format(precision_std))"
   ]
  },
  {
   "cell_type": "code",
   "execution_count": 27,
   "metadata": {},
   "outputs": [
    {
     "name": "stdout",
     "output_type": "stream",
     "text": [
      "Recall Mean: 0.942350098506\n",
      "Recall Standard Deviation: 0.00108114644808\n"
     ]
    }
   ],
   "source": [
    "recall = sgd_scores.get('test_recall_weighted')\n",
    "recall_mean = recall.mean()\n",
    "recall_std = recall.std()\n",
    "print('Recall Mean: {}'.format(recall_mean))\n",
    "print('Recall Standard Deviation: {}'.format(recall_std))"
   ]
  },
  {
   "cell_type": "code",
   "execution_count": 28,
   "metadata": {},
   "outputs": [
    {
     "name": "stderr",
     "output_type": "stream",
     "text": [
      "/home/imad/anaconda2/lib/python2.7/site-packages/matplotlib/cbook/deprecation.py:106: MatplotlibDeprecationWarning: Adding an axes using the same arguments as a previous axes currently reuses the earlier instance.  In a future version, a new instance will always be created and returned.  Meanwhile, this warning can be suppressed, and the future behavior ensured, by passing a unique label to each axes instance.\n",
      "  warnings.warn(message, mplDeprecation, stacklevel=1)\n"
     ]
    },
    {
     "data": {
      "image/png": "[encoded data removed]",
      "text/plain": [
       "<matplotlib.figure.Figure at 0x7f101d724f90>"
      ]
     },
     "metadata": {},
     "output_type": "display_data"
    }
   ],
   "source": [
    "df_sgd_scores = pd.DataFrame(data=sgd_scores)\n",
    "df_sgd_scores.columns = ['F1', 'Precision', 'Recall']\n",
    "df_sgd_scores.index = ['Fold1', 'Fold2', 'Fold3', 'Fold4', 'Fold5']\n",
    "p = df_sgd_scores.plot.bar(figsize=(16,9), ylim=(0,1.2))\n",
    "ax = plt.axes()        \n",
    "ax.yaxis.grid()\n",
    "p.set_axisbelow(True)\n",
    "for i in p.patches:\n",
    "    # get_x pulls left or right; get_height pushes up or down\n",
    "    p.text(i.get_x()+0.01, i.get_height()+0.02, str(round(i.get_height(), 2)))\n",
    "f = p.get_figure()\n",
    "f.savefig(charts_path + 'SGD_CV_Scores.pdf')"
   ]
  },
  {
   "cell_type": "code",
   "execution_count": 29,
   "metadata": {},
   "outputs": [
    {
     "data": {
      "text/html": [
       "<div>\n",
       "<style scoped>\n",
       "    .dataframe tbody tr th:only-of-type {\n",
       "        vertical-align: middle;\n",
       "    }\n",
       "\n",
       "    .dataframe tbody tr th {\n",
       "        vertical-align: top;\n",
       "    }\n",
       "\n",
       "    .dataframe thead th {\n",
       "        text-align: right;\n",
       "    }\n",
       "</style>\n",
       "<table border=\"1\" class=\"dataframe\">\n",
       "  <thead>\n",
       "    <tr style=\"text-align: right;\">\n",
       "      <th></th>\n",
       "      <th>Mean</th>\n",
       "      <th>STD</th>\n",
       "    </tr>\n",
       "  </thead>\n",
       "  <tbody>\n",
       "    <tr>\n",
       "      <th>F1</th>\n",
       "      <td>0.942782</td>\n",
       "      <td>0.001053</td>\n",
       "    </tr>\n",
       "    <tr>\n",
       "      <th>Precison</th>\n",
       "      <td>0.943761</td>\n",
       "      <td>0.000997</td>\n",
       "    </tr>\n",
       "    <tr>\n",
       "      <th>Recall</th>\n",
       "      <td>0.942350</td>\n",
       "      <td>0.001081</td>\n",
       "    </tr>\n",
       "  </tbody>\n",
       "</table>\n",
       "</div>"
      ],
      "text/plain": [
       "              Mean       STD\n",
       "F1        0.942782  0.001053\n",
       "Precison  0.943761  0.000997\n",
       "Recall    0.942350  0.001081"
      ]
     },
     "execution_count": 29,
     "metadata": {},
     "output_type": "execute_result"
    }
   ],
   "source": [
    "df_sgd_summary = pd.DataFrame(data=np.matrix([\n",
    "                            [f1_mean, precision_mean, recall_mean],\n",
    "                            [f1_std, precision_std, recall_std]\n",
    "                            ]).T,\n",
    "                            index=['F1', 'Precison', 'Recall'],\n",
    "                            columns=['Mean', 'STD'])\n",
    "df_sgd_summary"
   ]
  },
  {
   "cell_type": "code",
   "execution_count": 30,
   "metadata": {},
   "outputs": [
    {
     "data": {
      "image/png": "[encoded data removed]",
      "text/plain": [
       "<matplotlib.figure.Figure at 0x7f0fdee3a890>"
      ]
     },
     "metadata": {},
     "output_type": "display_data"
    }
   ],
   "source": [
    "summary_plt = df_sgd_summary['Mean'].plot.bar(figsize=(16,9), yerr=df_sgd_summary['STD'], ylim=(0,1))\n",
    "summary_plt.set_ylabel('Mean')\n",
    "summary_plt.yaxis.grid()\n",
    "summary_plt.set_axisbelow(True)\n",
    "for i in summary_plt.patches:\n",
    "    # get_x pulls left or right; get_height pushes up or down\n",
    "    summary_plt.text(i.get_x()+0.2, i.get_height()+0.02, str(round(i.get_height(), 2)))\n",
    "summary_plt.figure.savefig(charts_path + 'Avg_SGD_scores.pdf')"
   ]
  },
  {
   "cell_type": "code",
   "execution_count": 31,
   "metadata": {},
   "outputs": [
    {
     "name": "stdout",
     "output_type": "stream",
     "text": [
      "Predictions: [1. 1. 1. ... 0. 0. 0.]\n"
     ]
    }
   ],
   "source": [
    "sgd_predicted = cross_val_predict(sgd, X_scaled, y_clean, cv=5)\n",
    "print('Predictions: {}'.format(sgd_predicted))"
   ]
  },
  {
   "cell_type": "markdown",
   "metadata": {},
   "source": [
    "# SGD Results"
   ]
  },
  {
   "cell_type": "code",
   "execution_count": 32,
   "metadata": {},
   "outputs": [
    {
     "name": "stdout",
     "output_type": "stream",
     "text": [
      "Model Accuracy: 0.94\n"
     ]
    }
   ],
   "source": [
    "sgd_accuracy = round(accuracy_score(y_clean, sgd_predicted), 2)\n",
    "print('Model Accuracy: {}'.format(sgd_accuracy))\n",
    "with open(charts_path + 'accuracy.txt', 'wb') as f:\n",
    "    f.write(str(sgd_accuracy))"
   ]
  },
  {
   "cell_type": "code",
   "execution_count": 33,
   "metadata": {},
   "outputs": [
    {
     "name": "stdout",
     "output_type": "stream",
     "text": [
      "Confusion Matrix:\n",
      "[[ 45050   3477]\n",
      " [  6093 111382]]\n"
     ]
    }
   ],
   "source": [
    "sgd_cm = confusion_matrix(y_clean, sgd_predicted)\n",
    "print('Confusion Matrix:\\n{}'.format(sgd_cm))"
   ]
  },
  {
   "cell_type": "code",
   "execution_count": 34,
   "metadata": {},
   "outputs": [
    {
     "data": {
      "image/png": "[encoded data removed]",
      "text/plain": [
       "<matplotlib.figure.Figure at 0x7f0fdeea4cd0>"
      ]
     },
     "metadata": {},
     "output_type": "display_data"
    }
   ],
   "source": [
    "utils.cm_plot(sgd_cm, ['Negative', 'Positive'], 'SGD Normalized Confusion Matrix', charts_path + 'SGD_CM.pdf')"
   ]
  },
  {
   "cell_type": "code",
   "execution_count": 35,
   "metadata": {},
   "outputs": [
    {
     "name": "stdout",
     "output_type": "stream",
     "text": [
      "             precision    recall  f1-score   support\n",
      "\n",
      "        0.0       0.88      0.93      0.90     48527\n",
      "        1.0       0.97      0.95      0.96    117475\n",
      "\n",
      "avg / total       0.94      0.94      0.94    166002\n",
      "\n"
     ]
    }
   ],
   "source": [
    "print(classification_report(y_clean, sgd_predicted))"
   ]
  },
  {
   "cell_type": "code",
   "execution_count": null,
   "metadata": {},
   "outputs": [],
   "source": []
  }
 ],
 "metadata": {
  "kernelspec": {
   "display_name": "Python 2",
   "language": "python",
   "name": "python2"
  },
  "language_info": {
   "codemirror_mode": {
    "name": "ipython",
    "version": 2
   },
   "file_extension": ".py",
   "mimetype": "text/x-python",
   "name": "python",
   "nbconvert_exporter": "python",
   "pygments_lexer": "ipython2",
   "version": "2.7.14"
  }
 },
 "nbformat": 4,
 "nbformat_minor": 2
}
