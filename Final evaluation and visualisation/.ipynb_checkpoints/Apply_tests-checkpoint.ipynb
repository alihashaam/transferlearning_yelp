{
 "cells": [
  {
   "cell_type": "code",
   "execution_count": 1,
   "metadata": {},
   "outputs": [],
   "source": [
    "import McNemar\n",
    "from sklearn.externals import joblib\n",
    "from sklearn.model_selection import train_test_split\n",
    "import numpy as np\n",
    "import pandas as pd\n",
    "import matplotlib as mpl\n",
    "import matplotlib.pyplot as plt\n",
    "%matplotlib inline\n",
    "#mpl.rcParams['text.usetex'] = True\n",
    "#mpl.rcParams['text.latex.unicode'] = True"
   ]
  },
  {
   "cell_type": "code",
   "execution_count": 2,
   "metadata": {},
   "outputs": [],
   "source": [
    "# Choose a dataset Bars (1) or Homes (2)\n",
    "option = 1\n",
    "if option == 2:\n",
    "    path_acc_MNB_t_t = '../Models/Phase2_Models_Homes/Baseline/Local/Output/Accuracy.txt'\n",
    "    path_acc_MNB_r_t = '../Models/Phase2_Models_Homes/Baseline/Cross-domain/Output/Accuracy.txt'\n",
    "    path_acc_SGD_t_t = '../Models/Phase2_Models_Homes/Gold-Standard/Local/Output/Accuracy.txt'\n",
    "    path_acc_SGD_r_t = '../Models/Phase2_Models_Homes/Gold-Standard/Cross-domain/Output/Accuracy.txt'\n",
    "    path_pred_SGD_t_t = '../Models/Phase2_Models_Homes/Gold-Standard/Local/Output/Predictions.pkl'\n",
    "    path_pred_SGD_r_t = '../Models/Phase2_Models_Homes/Gold-Standard/Cross-domain/Output/Predictions.pkl'\n",
    "    path_pred_MNB_t_t = '../Models/Phase2_Models_Homes/Baseline/Local/Output/Predictions.pkl'\n",
    "    path_X = '/home/imad/Desktop/Yelp_vectorized_data/Baseline/Home Services_X.pkl'\n",
    "    path_y = '/home/imad/Desktop/Yelp_vectorized_data/Baseline/Home_Services_y.pkl'\n",
    "    result_f_name = 'Homes'\n",
    "else:\n",
    "    path_acc_MNB_t_t = '../Models/Phase2_Models_Bars/Baseline/Local/Output/Accuracy.txt'\n",
    "    path_acc_MNB_r_t = '../Models/Phase2_Models_Bars/Baseline/Cross-domain/Output/Accuracy.txt'\n",
    "    path_acc_SGD_t_t = '../Models/Phase2_Models_Bars/Gold-Standard/Local/Output/Accuracy.txt'\n",
    "    path_acc_SGD_r_t = '../Models/Phase2_Models_Bars/Gold-Standard/Cross-domain/Output/Accuracy.txt'\n",
    "    path_pred_SGD_t_t = '../Models/Phase2_Models_Bars/Gold-Standard/Local/Output/Predictions.pkl'\n",
    "    path_pred_SGD_r_t = '../Models/Phase2_Models_Bars/Gold-Standard/Cross-domain/Output/Predictions.pkl'\n",
    "    path_pred_MNB_t_t = '../Models/Phase2_Models_Bars/Baseline/Local/Output/Predictions.pkl'\n",
    "    path_X = '/home/imad/Desktop/Yelp_vectorized_data/Baseline/Bars_X.pkl'\n",
    "    path_y = '/home/imad/Desktop/Yelp_vectorized_data/Baseline/Bars_y.pkl'\n",
    "    result_f_name = 'Bars'\n",
    "path_acc_MNB_r_r_5 = '../Models/Phase1_Models/MNB_r_r_5/Output/Accuracy.txt'\n",
    "path_acc_MNB_r_r_3 = '../Models/Phase1_Models/MNB_r_r_3/Output/Accuracy.txt'\n",
    "path_acc_SGD_r_r_3 = '../Models/Phase1_Models/SGD_r_r_3/Output/Accuracy.txt'\n",
    "path_f1_MNB_r_r_5 = '../Models/Phase1_Models/MNB_r_r_5/Output/F1.txt'\n",
    "path_f1_MNB_r_r_3 = '../Models/Phase1_Models/MNB_r_r_3/Output/F1.txt'\n",
    "path_f1_SGD_r_r_3 = '../Models/Phase1_Models/SGD_r_r_3/Output/F1.txt'"
   ]
  },
  {
   "cell_type": "markdown",
   "metadata": {},
   "source": [
    "# Read Accuracies from output files"
   ]
  },
  {
   "cell_type": "code",
   "execution_count": 3,
   "metadata": {},
   "outputs": [
    {
     "data": {
      "text/plain": [
       "0.78"
      ]
     },
     "execution_count": 3,
     "metadata": {},
     "output_type": "execute_result"
    }
   ],
   "source": [
    "with open(path_acc_MNB_t_t, 'rb') as f:\n",
    "    acc_MNB_t_t = float(f.readline())\n",
    "acc_MNB_t_t"
   ]
  },
  {
   "cell_type": "code",
   "execution_count": 4,
   "metadata": {},
   "outputs": [
    {
     "data": {
      "text/plain": [
       "0.21"
      ]
     },
     "execution_count": 4,
     "metadata": {},
     "output_type": "execute_result"
    }
   ],
   "source": [
    "with open(path_acc_MNB_r_t, 'rb') as f:\n",
    "    acc_MNB_r_t = float(f.readline())\n",
    "acc_MNB_r_t"
   ]
  },
  {
   "cell_type": "code",
   "execution_count": 5,
   "metadata": {},
   "outputs": [
    {
     "data": {
      "text/plain": [
       "0.79"
      ]
     },
     "execution_count": 5,
     "metadata": {},
     "output_type": "execute_result"
    }
   ],
   "source": [
    "with open(path_acc_SGD_t_t, 'rb') as f:\n",
    "    acc_SGD_t_t = float(f.readline())\n",
    "acc_SGD_t_t"
   ]
  },
  {
   "cell_type": "code",
   "execution_count": 6,
   "metadata": {},
   "outputs": [
    {
     "data": {
      "text/plain": [
       "0.25"
      ]
     },
     "execution_count": 6,
     "metadata": {},
     "output_type": "execute_result"
    }
   ],
   "source": [
    "with open(path_acc_SGD_r_t, 'rb') as f:\n",
    "    acc_SGD_r_t = float(f.readline())\n",
    "acc_SGD_r_t"
   ]
  },
  {
   "cell_type": "code",
   "execution_count": 7,
   "metadata": {},
   "outputs": [
    {
     "data": {
      "text/plain": [
       "0.22"
      ]
     },
     "execution_count": 7,
     "metadata": {},
     "output_type": "execute_result"
    }
   ],
   "source": [
    "e_MNB_t_t = round(1 - acc_MNB_t_t, 2)\n",
    "e_MNB_t_t"
   ]
  },
  {
   "cell_type": "code",
   "execution_count": 8,
   "metadata": {},
   "outputs": [
    {
     "data": {
      "text/plain": [
       "0.75"
      ]
     },
     "execution_count": 8,
     "metadata": {},
     "output_type": "execute_result"
    }
   ],
   "source": [
    "e_SGD_r_t = round(1 - acc_SGD_r_t, 2)\n",
    "e_SGD_r_t"
   ]
  },
  {
   "cell_type": "code",
   "execution_count": 9,
   "metadata": {},
   "outputs": [
    {
     "data": {
      "text/plain": [
       "0.59"
      ]
     },
     "execution_count": 9,
     "metadata": {},
     "output_type": "execute_result"
    }
   ],
   "source": [
    "with open(path_acc_MNB_r_r_5, 'rb') as f:\n",
    "    acc_MNB_r_r_5 = float(f.readline())\n",
    "acc_MNB_r_r_5"
   ]
  },
  {
   "cell_type": "code",
   "execution_count": 10,
   "metadata": {},
   "outputs": [
    {
     "data": {
      "text/plain": [
       "0.79"
      ]
     },
     "execution_count": 10,
     "metadata": {},
     "output_type": "execute_result"
    }
   ],
   "source": [
    "with open(path_acc_MNB_r_r_3, 'rb') as f:\n",
    "    acc_MNB_r_r_3 = float(f.readline())\n",
    "acc_MNB_r_r_3"
   ]
  },
  {
   "cell_type": "code",
   "execution_count": 11,
   "metadata": {},
   "outputs": [
    {
     "data": {
      "text/plain": [
       "0.8"
      ]
     },
     "execution_count": 11,
     "metadata": {},
     "output_type": "execute_result"
    }
   ],
   "source": [
    "with open(path_acc_SGD_r_r_3, 'rb') as f:\n",
    "    acc_SGD_r_r_3 = float(f.readline())\n",
    "acc_SGD_r_r_3"
   ]
  },
  {
   "cell_type": "code",
   "execution_count": 12,
   "metadata": {},
   "outputs": [
    {
     "data": {
      "text/plain": [
       "0.58"
      ]
     },
     "execution_count": 12,
     "metadata": {},
     "output_type": "execute_result"
    }
   ],
   "source": [
    "with open(path_f1_MNB_r_r_5, 'rb') as f:\n",
    "    f1_MNB_r_r_5 = float(f.readline())\n",
    "f1_MNB_r_r_5"
   ]
  },
  {
   "cell_type": "code",
   "execution_count": 13,
   "metadata": {},
   "outputs": [
    {
     "data": {
      "text/plain": [
       "0.76"
      ]
     },
     "execution_count": 13,
     "metadata": {},
     "output_type": "execute_result"
    }
   ],
   "source": [
    "with open(path_f1_MNB_r_r_3, 'rb') as f:\n",
    "    f1_MNB_r_r_3 = float(f.readline())\n",
    "f1_MNB_r_r_3"
   ]
  },
  {
   "cell_type": "code",
   "execution_count": 14,
   "metadata": {},
   "outputs": [
    {
     "data": {
      "text/plain": [
       "0.76"
      ]
     },
     "execution_count": 14,
     "metadata": {},
     "output_type": "execute_result"
    }
   ],
   "source": [
    "with open(path_f1_SGD_r_r_3, 'rb') as f:\n",
    "    f1_SGD_r_r_3 = float(f.readline())\n",
    "f1_SGD_r_r_3"
   ]
  },
  {
   "cell_type": "code",
   "execution_count": 15,
   "metadata": {},
   "outputs": [
    {
     "name": "stderr",
     "output_type": "stream",
     "text": [
      "/home/imad/anaconda2/lib/python2.7/site-packages/matplotlib/cbook/deprecation.py:106: MatplotlibDeprecationWarning: Adding an axes using the same arguments as a previous axes currently reuses the earlier instance.  In a future version, a new instance will always be created and returned.  Meanwhile, this warning can be suppressed, and the future behavior ensured, by passing a unique label to each axes instance.\n",
      "  warnings.warn(message, mplDeprecation, stacklevel=1)\n"
     ]
    },
    {
     "data": {
      "image/png": "[encoded data removed]",
      "text/plain": [
       "<matplotlib.figure.Figure at 0x7f45b8b5a490>"
      ]
     },
     "metadata": {},
     "output_type": "display_data"
    }
   ],
   "source": [
    "mpl.rcParams['font.size'] = 20.0\n",
    "df = pd.DataFrame(data=[(acc_MNB_r_r_5, f1_MNB_r_r_5), (acc_MNB_r_r_3, f1_MNB_r_r_3), (acc_SGD_r_r_3, f1_SGD_r_r_3)], columns=['Accuracy', 'F1-score'],\n",
    "                  index=[r'$\\xi_{bS5}$', r'$\\xi_{bS3}$', r'$\\xi_{S3}$'])\n",
    "df.plot(kind='bar', ylim=(0,1.2), figsize=(16,9))\n",
    "plt.xticks(rotation='horizontal')\n",
    "ax = plt.axes()\n",
    "ax.yaxis.grid()\n",
    "ax.set_axisbelow(True)\n",
    "for i in ax.patches:\n",
    "    # get_x pulls left or right; get_height pushes up or down\n",
    "    ax.text(i.get_x()+0.05, i.get_height()+0.03, str(round(i.get_height(), 2)))\n",
    "\n",
    "plt.show()\n",
    "ax.get_figure().savefig('Phase1_Acc_F1.pdf')"
   ]
  },
  {
   "cell_type": "code",
   "execution_count": 16,
   "metadata": {},
   "outputs": [],
   "source": [
    "#mpl.rcParams['font.size'] = 20.0\n",
    "#df = pd.DataFrame(data=[acc_MNB_t_t, acc_MNB_r_t, acc_SGD_t_t, acc_SGD_r_t], columns=['Accuracy'],\n",
    "#                  index=[r'$\\xi_{bT}$', r'$\\xi_{bST}$', r'$\\xi_{T}$', r'$\\xi_{ST}$'])\n",
    "#df.plot(kind='bar', ylim=(0,1), figsize=(16,9))\n",
    "#plt.xticks(rotation='horizontal')\n",
    "#ax = plt.axes()\n",
    "#ax.yaxis.grid()\n",
    "#ax.set_axisbelow(True)\n",
    "#for i in ax.patches:\n",
    "#    # get_x pulls left or right; get_height pushes up or down\n",
    "#    ax.text(i.get_x()+0.15, i.get_height()+0.02, str(round(i.get_height(), 2)))\n",
    "\n",
    "#plt.show()\n",
    "#ax.get_figure().savefig(result_f_name + '_Accuracies.pdf')"
   ]
  },
  {
   "cell_type": "code",
   "execution_count": 17,
   "metadata": {},
   "outputs": [
    {
     "data": {
      "text/plain": [
       "[0.21, 0.25, 0.78, 0.79]"
      ]
     },
     "execution_count": 17,
     "metadata": {},
     "output_type": "execute_result"
    }
   ],
   "source": [
    "data = [acc_MNB_t_t, acc_MNB_r_t, acc_SGD_t_t, acc_SGD_r_t]\n",
    "sorted_data = sorted(data)\n",
    "sorted_data"
   ]
  },
  {
   "cell_type": "code",
   "execution_count": 18,
   "metadata": {},
   "outputs": [],
   "source": [
    "diff = [min(sorted_data)]\n",
    "for i in range(len(sorted_data) - 1):\n",
    "    diff.append( round(sorted_data[i+1] -  sorted_data[i], 2))"
   ]
  },
  {
   "cell_type": "code",
   "execution_count": 19,
   "metadata": {},
   "outputs": [
    {
     "data": {
      "text/plain": [
       "[0.21, 0.04, 0.53, 0.01]"
      ]
     },
     "execution_count": 19,
     "metadata": {},
     "output_type": "execute_result"
    }
   ],
   "source": [
    "diff"
   ]
  },
  {
   "cell_type": "code",
   "execution_count": 20,
   "metadata": {},
   "outputs": [
    {
     "data": {
      "image/png": "[encoded data removed]",
      "text/plain": [
       "<matplotlib.figure.Figure at 0x7f45b0316050>"
      ]
     },
     "metadata": {},
     "output_type": "display_data"
    }
   ],
   "source": [
    "ind = np.arange(1)\n",
    "plt.figure(figsize=(3,9))\n",
    "p3 = plt.bar(ind, diff[3], width=0.008, label='golds', color='green', bottom=diff[2]+diff[1]+diff[0])\n",
    "p2 = plt.bar(ind, diff[2], width=0.008, label='golds', color='gold', bottom=diff[1]+diff[0])\n",
    "p1 = plt.bar(ind, diff[1], width=0.008, label='silvers', color='silver', bottom=diff[0])\n",
    "p0 = plt.bar(ind, diff[0], width=0.008, label='bronzes', color='#CD853F')\n",
    "if option == 1:\n",
    "    plt.legend((p3[0],p2[0],p1[0],p0[0]), (r'$\\xi_{T}$', r'$\\xi_{bT}$', r'$\\xi_{ST}$', r'$\\xi_{bST}$'))\n",
    "elif option == 2:\n",
    "    plt.legend((p3[0],p2[0],p1[0],p0[0]), (r'$\\xi_{T}$', r'$\\xi_{bT}$' ,r'$\\xi_{bST}$', r'$\\xi_{ST}$'))\n",
    "    \n",
    "plt.xticks(ind, np.arange(1))\n",
    "plt.ylabel(\"Accuracy\")\n",
    "plt.xlabel(r\"$\\xi$\")\n",
    "ax = plt.axes()\n",
    "\n",
    "# rotate axis labels\n",
    "plt.setp(plt.gca().get_xticklabels(), rotation=180, horizontalalignment='right')\n",
    "\n",
    "plt.show()\n",
    "ax.get_figure().savefig(result_f_name + '_Accuracies.pdf', bbox_inches='tight')"
   ]
  },
  {
   "cell_type": "markdown",
   "metadata": {},
   "source": [
    "# Loss(r, b)"
   ]
  },
  {
   "cell_type": "code",
   "execution_count": 21,
   "metadata": {},
   "outputs": [
    {
     "data": {
      "text/plain": [
       "0.53"
      ]
     },
     "execution_count": 21,
     "metadata": {},
     "output_type": "execute_result"
    }
   ],
   "source": [
    "loss = round(e_SGD_r_t - e_MNB_t_t, 2)\n",
    "loss"
   ]
  },
  {
   "cell_type": "markdown",
   "metadata": {},
   "source": [
    "# Adaptation Loss"
   ]
  },
  {
   "cell_type": "code",
   "execution_count": 22,
   "metadata": {},
   "outputs": [
    {
     "data": {
      "text/plain": [
       "0.54"
      ]
     },
     "execution_count": 22,
     "metadata": {},
     "output_type": "execute_result"
    }
   ],
   "source": [
    "al = round(acc_SGD_t_t - acc_SGD_r_t, 2)\n",
    "al"
   ]
  },
  {
   "cell_type": "markdown",
   "metadata": {},
   "source": [
    "# RRE"
   ]
  },
  {
   "cell_type": "code",
   "execution_count": 23,
   "metadata": {},
   "outputs": [
    {
     "data": {
      "text/plain": [
       "0.07"
      ]
     },
     "execution_count": 23,
     "metadata": {},
     "output_type": "execute_result"
    }
   ],
   "source": [
    "rre = round( (acc_SGD_r_t - acc_MNB_r_t) / (acc_SGD_t_t - acc_MNB_r_t), 2 )\n",
    "rre"
   ]
  },
  {
   "cell_type": "markdown",
   "metadata": {},
   "source": [
    "# McNemar"
   ]
  },
  {
   "cell_type": "code",
   "execution_count": 24,
   "metadata": {},
   "outputs": [
    {
     "data": {
      "text/plain": [
       "282814"
      ]
     },
     "execution_count": 24,
     "metadata": {},
     "output_type": "execute_result"
    }
   ],
   "source": [
    "pred_SGD_t_t = joblib.load(path_pred_SGD_t_t)\n",
    "len(pred_SGD_t_t)"
   ]
  },
  {
   "cell_type": "code",
   "execution_count": 25,
   "metadata": {},
   "outputs": [
    {
     "data": {
      "text/plain": [
       " 1    192531\n",
       "-1     72439\n",
       " 0     17844\n",
       "dtype: int64"
      ]
     },
     "execution_count": 25,
     "metadata": {},
     "output_type": "execute_result"
    }
   ],
   "source": [
    "pd.Series(pred_SGD_t_t).value_counts()"
   ]
  },
  {
   "cell_type": "code",
   "execution_count": 26,
   "metadata": {},
   "outputs": [
    {
     "data": {
      "text/plain": [
       "282814"
      ]
     },
     "execution_count": 26,
     "metadata": {},
     "output_type": "execute_result"
    }
   ],
   "source": [
    "pred_SGD_r_t = joblib.load(path_pred_SGD_r_t)\n",
    "len(pred_SGD_r_t)"
   ]
  },
  {
   "cell_type": "code",
   "execution_count": 27,
   "metadata": {},
   "outputs": [
    {
     "data": {
      "text/plain": [
       " 0.0    171563\n",
       " 1.0     79299\n",
       "-1.0     31952\n",
       "dtype: int64"
      ]
     },
     "execution_count": 27,
     "metadata": {},
     "output_type": "execute_result"
    }
   ],
   "source": [
    "pd.Series(pred_SGD_r_t).value_counts()"
   ]
  },
  {
   "cell_type": "code",
   "execution_count": 28,
   "metadata": {},
   "outputs": [],
   "source": [
    "X = joblib.load(path_X)\n",
    "y = joblib.load(path_y)\n",
    "X_train, X_test, y_train, y_test = train_test_split(X, y, test_size=0.3, random_state=0, stratify=y)"
   ]
  },
  {
   "cell_type": "code",
   "execution_count": 29,
   "metadata": {},
   "outputs": [],
   "source": [
    "# Polarize to Negative, Neutral and Positive\n",
    "for i in y_test.index:\n",
    "    if y_test[i] == 1 or y_test[i] == 2:\n",
    "        y_test[i] = -1\n",
    "    elif y_test[i] == 3:\n",
    "        y_test[i] = 0\n",
    "    else:\n",
    "        y_test[i] = 1"
   ]
  },
  {
   "cell_type": "code",
   "execution_count": 30,
   "metadata": {},
   "outputs": [
    {
     "data": {
      "text/plain": [
       " 1    183159\n",
       "-1     58391\n",
       " 0     41264\n",
       "Name: stars, dtype: int64"
      ]
     },
     "execution_count": 30,
     "metadata": {},
     "output_type": "execute_result"
    }
   ],
   "source": [
    "pd.Series(y_test).value_counts()"
   ]
  },
  {
   "cell_type": "code",
   "execution_count": 31,
   "metadata": {},
   "outputs": [],
   "source": [
    "def generate_matrix(y_1, y_2):\n",
    "    \"\"\"\n",
    "        Generate the matrix of agreement between two classifiers to be used for McNemar test\n",
    "        \n",
    "        Parameters:\n",
    "            - y_1: The predicted labels of classifier 1\n",
    "            - y_2: The predicted labels of classifier 2\n",
    "        \n",
    "        Returns:\n",
    "            - a: a 2x2 matrix\n",
    "    \"\"\"\n",
    "    n_00 = n_01 = n_10 = n_11 = 0\n",
    "    \n",
    "    for i in range(y_1.shape[0]):\n",
    "        if y_1[i] == y_test.values[i]:\n",
    "            if y_2[i] == y_1[i]:\n",
    "                n_00 += 1\n",
    "            else:\n",
    "                n_01 += 1\n",
    "        elif y_2[i] == y_test.values[i]:\n",
    "            if y_1[i] == y_2[i]:\n",
    "                n_10 += 1\n",
    "            else:\n",
    "                n_11 += 1\n",
    "\n",
    "    a = np.array([[n_00, n_01], [n_10, n_11]])\n",
    "    return a"
   ]
  },
  {
   "cell_type": "code",
   "execution_count": 32,
   "metadata": {},
   "outputs": [
    {
     "data": {
      "text/plain": [
       "array([[ 64511, 159195],\n",
       "       [     0,   5476]])"
      ]
     },
     "execution_count": 32,
     "metadata": {},
     "output_type": "execute_result"
    }
   ],
   "source": [
    "a = generate_matrix(pred_SGD_t_t, pred_SGD_r_t)\n",
    "a"
   ]
  },
  {
   "cell_type": "code",
   "execution_count": 33,
   "metadata": {},
   "outputs": [
    {
     "name": "stdout",
     "output_type": "stream",
     "text": [
      "P_value: 0\n"
     ]
    }
   ],
   "source": [
    "P_value = 0\n",
    "try:\n",
    "    P_value = McNemar.McNemar(a)\n",
    "    print('P_value: {}'.format(P_value))\n",
    "except OverflowError:\n",
    "    print('OverflowError: P_value approximates zero')"
   ]
  },
  {
   "cell_type": "code",
   "execution_count": 34,
   "metadata": {},
   "outputs": [
    {
     "data": {
      "text/plain": [
       "282814"
      ]
     },
     "execution_count": 34,
     "metadata": {},
     "output_type": "execute_result"
    }
   ],
   "source": [
    "pred_MNB_t_t = joblib.load(path_pred_MNB_t_t)\n",
    "len(pred_MNB_t_t)"
   ]
  },
  {
   "cell_type": "code",
   "execution_count": 35,
   "metadata": {},
   "outputs": [
    {
     "data": {
      "text/plain": [
       " 1    202891\n",
       "-1     63981\n",
       " 0     15942\n",
       "dtype: int64"
      ]
     },
     "execution_count": 35,
     "metadata": {},
     "output_type": "execute_result"
    }
   ],
   "source": [
    "pd.Series(pred_MNB_t_t).value_counts()"
   ]
  },
  {
   "cell_type": "code",
   "execution_count": 36,
   "metadata": {},
   "outputs": [
    {
     "data": {
      "text/plain": [
       "array([[ 62438, 159059],\n",
       "       [     0,   7549]])"
      ]
     },
     "execution_count": 36,
     "metadata": {},
     "output_type": "execute_result"
    }
   ],
   "source": [
    "a = generate_matrix(pred_MNB_t_t, pred_SGD_r_t)\n",
    "a"
   ]
  },
  {
   "cell_type": "code",
   "execution_count": 37,
   "metadata": {},
   "outputs": [
    {
     "name": "stdout",
     "output_type": "stream",
     "text": [
      "P_value: 0\n"
     ]
    }
   ],
   "source": [
    "P_value = 0\n",
    "try:\n",
    "    P_value = McNemar.McNemar(a)\n",
    "    print('P_value: {}'.format(P_value))\n",
    "except OverflowError:\n",
    "    print('OverflowError: P_value approximates zero')"
   ]
  }
 ],
 "metadata": {
  "kernelspec": {
   "display_name": "Python 2",
   "language": "python",
   "name": "python2"
  },
  "language_info": {
   "codemirror_mode": {
    "name": "ipython",
    "version": 2
   },
   "file_extension": ".py",
   "mimetype": "text/x-python",
   "name": "python",
   "nbconvert_exporter": "python",
   "pygments_lexer": "ipython2",
   "version": "2.7.14"
  }
 },
 "nbformat": 4,
 "nbformat_minor": 2
}
